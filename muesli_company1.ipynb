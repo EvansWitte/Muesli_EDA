{
 "cells": [
  {
   "cell_type": "markdown",
   "metadata": {},
   "source": [
    "\n",
    "![](images/Müsli.png)"
   ]
  },
  {
   "cell_type": "markdown",
   "metadata": {},
   "source": [
    "## Import Tool Kit"
   ]
  },
  {
   "cell_type": "code",
   "execution_count": 2,
   "metadata": {},
   "outputs": [],
   "source": [
    "# import the necessary libraries you need for your analysis\n",
    "import numpy as np\n",
    "import seaborn as sns\n",
    "import matplotlib.pyplot as plt\n",
    "import pandas as pd \n",
    "%matplotlib inline\n",
    "\n",
    "# warnings supression\n",
    "import warnings\n",
    "warnings.simplefilter(action='ignore', category=FutureWarning)"
   ]
  },
  {
   "cell_type": "code",
   "execution_count": 3,
   "metadata": {},
   "outputs": [],
   "source": [
    "# read in csv file and display first 5 rows of datset\n",
    "df = pd.read_excel(\"data/MuesliProject_raw_data.xlsx\")"
   ]
  },
  {
   "cell_type": "code",
   "execution_count": 4,
   "metadata": {},
   "outputs": [],
   "source": [
    "# read in csv file and display first 5 rows of datset\n",
    "df_campaign = pd.read_excel(\"data/MuesliProject_raw_data.xlsx\",sheet_name='Campaign Data')\n",
    "df_process = pd.read_excel(\"data/MuesliProject_raw_data.xlsx\",sheet_name='Order Process Data')\n",
    "df_intern = pd.read_excel(\"data/MuesliProject_raw_data.xlsx\",sheet_name='InternData Study')"
   ]
  },
  {
   "cell_type": "markdown",
   "metadata": {},
   "source": [
    "#### Profit1"
   ]
  },
  {
   "cell_type": "code",
   "execution_count": null,
   "metadata": {},
   "outputs": [],
   "source": [
    "\n",
    "df_intern_final\n",
    "\n",
    "df_intern_final_work = df_intern_final.groupby(\"work_days_to_process\", as_index=False)[\"order_id\"].count()\\\n",
    "    .rename(columns={\"order_id\":\"total\"}) "
   ]
  },
  {
   "cell_type": "code",
   "execution_count": null,
   "metadata": {},
   "outputs": [],
   "source": [
    "sales_profit = df[[\"order_id\",\"order_date\",\"ship_mode\",\"sales\",\"profit\",\"origin_channel\"]]\n",
    "sales_profit[\"order_date\"] = pd.to_datetime(sales_profit[\"order_date\"])\n",
    "\n",
    "sales_profit[\"year\"] = sales_profit[\"order_date\"].dt.year\n",
    "sales_profit[\"month\"] = sales_profit[\"order_date\"].dt.month_name()\n",
    "sales_profit[\"sales\"] = sales_profit[\"sales\"].astype('float')\n",
    "sales_profit[\"profit\"] = sales_profit[\"profit\"].astype('float')\n",
    "\n",
    "sales_profit[\"sales\"] = sales_profit[\"sales\"].round(2)\n",
    "sales_profit[\"profit\"] = sales_profit[\"profit\"].round(2)"
   ]
  },
  {
   "cell_type": "code",
   "execution_count": 32,
   "metadata": {},
   "outputs": [],
   "source": [
    "sales_profit_1 = sales_profit.groupby([\"month\",\"year\"], as_index=False)[\"sales\",\"profit\"].sum() \n",
    "month = ['January', 'February', 'March', 'April', 'May', 'June','July','August','September','October','November','December']\n",
    "sales_profit_1[\"month\"] = pd.CategoricalIndex(sales_profit_1[\"month\"], categories=month,ordered=True )\n",
    "sales_profit_1 = sales_profit_1.sort_values(\"month\")\n",
    "\n",
    "sales_profit_2 = sales_profit.groupby([\"year\"], as_index=False)[\"sales\",\"profit\"].sum() \n"
   ]
  },
  {
   "cell_type": "markdown",
   "metadata": {},
   "source": [
    "## Data Cleaning"
   ]
  },
  {
   "cell_type": "markdown",
   "metadata": {},
   "source": [
    "#### Column Cleaning and dropping duplicates"
   ]
  },
  {
   "cell_type": "code",
   "execution_count": 5,
   "metadata": {},
   "outputs": [],
   "source": [
    "#column cleaning\n",
    "headers = df.iloc[0]\n",
    "df.rename(columns=headers, inplace=True)\n",
    "df.drop(df.index[0], inplace=True)\n",
    "\n",
    "#drop the new index column\n",
    "df = df.reset_index(col_level=0)\n",
    "df.drop('index',axis=1,inplace=True)"
   ]
  },
  {
   "cell_type": "code",
   "execution_count": 6,
   "metadata": {},
   "outputs": [],
   "source": [
    "#change the column description - underscore instead of space and all str lower\n",
    "cols = df.columns.tolist()\n",
    "df.columns = [col.replace(' ','_').lower()for col in cols]\n",
    "\n",
    "cols = df_campaign.columns.tolist()\n",
    "df_campaign.columns = [col.replace(' ','_').lower()for col in cols]\n",
    "\n",
    "cols = df_process.columns.tolist()\n",
    "df_process.columns = [col.replace(' ','_').lower()for col in cols]\n",
    "\n",
    "cols = df_intern.columns.tolist()\n",
    "df_intern.columns = [col.replace(' ','_').lower()for col in cols]\n"
   ]
  },
  {
   "cell_type": "code",
   "execution_count": 7,
   "metadata": {},
   "outputs": [],
   "source": [
    "#drop the duplicates from these tables\n",
    "df_campaign.drop_duplicates(subset='order_id', keep='first' ,inplace=True, ignore_index=False)\n",
    "df_process.drop_duplicates(subset='order_id', keep='first' ,inplace=True, ignore_index=False)\n",
    "df_intern.drop_duplicates(subset='order_id', keep='first' ,inplace=True, ignore_index=False)\n",
    "df.drop_duplicates(subset='order_id', keep='first' ,inplace=True, ignore_index=False)"
   ]
  },
  {
   "cell_type": "code",
   "execution_count": 8,
   "metadata": {},
   "outputs": [
    {
     "data": {
      "text/html": [
       "<div>\n",
       "<style scoped>\n",
       "    .dataframe tbody tr th:only-of-type {\n",
       "        vertical-align: middle;\n",
       "    }\n",
       "\n",
       "    .dataframe tbody tr th {\n",
       "        vertical-align: top;\n",
       "    }\n",
       "\n",
       "    .dataframe thead th {\n",
       "        text-align: right;\n",
       "    }\n",
       "</style>\n",
       "<table border=\"1\" class=\"dataframe\">\n",
       "  <thead>\n",
       "    <tr style=\"text-align: right;\">\n",
       "      <th></th>\n",
       "      <th>index</th>\n",
       "      <th>order_id</th>\n",
       "      <th>order_date_x</th>\n",
       "      <th>ship_mode_x</th>\n",
       "      <th>customer_id</th>\n",
       "      <th>customer_name_x</th>\n",
       "      <th>origin_channel</th>\n",
       "      <th>country/region</th>\n",
       "      <th>city</th>\n",
       "      <th>state</th>\n",
       "      <th>...</th>\n",
       "      <th>discount</th>\n",
       "      <th>profit</th>\n",
       "      <th>arrival_scan_date</th>\n",
       "      <th>customer_name_y</th>\n",
       "      <th>row_id</th>\n",
       "      <th>order_date_y</th>\n",
       "      <th>on_truck_scan_date</th>\n",
       "      <th>ship_mode_y</th>\n",
       "      <th>ready_to_ship_date</th>\n",
       "      <th>pickup_date</th>\n",
       "    </tr>\n",
       "  </thead>\n",
       "  <tbody>\n",
       "    <tr>\n",
       "      <th>0</th>\n",
       "      <td>27.0</td>\n",
       "      <td>CA-2019-121755</td>\n",
       "      <td>2019-01-16 00:00:00</td>\n",
       "      <td>Second Class</td>\n",
       "      <td>EH-13945</td>\n",
       "      <td>Eric Hoffmann</td>\n",
       "      <td>Email</td>\n",
       "      <td>United States</td>\n",
       "      <td>Los Angeles</td>\n",
       "      <td>California</td>\n",
       "      <td>...</td>\n",
       "      <td>0.0</td>\n",
       "      <td>11.7741</td>\n",
       "      <td>NaT</td>\n",
       "      <td>NaN</td>\n",
       "      <td>26.0</td>\n",
       "      <td>2019-01-16</td>\n",
       "      <td>2019-01-23</td>\n",
       "      <td>Standard Processing</td>\n",
       "      <td>NaT</td>\n",
       "      <td>NaT</td>\n",
       "    </tr>\n",
       "    <tr>\n",
       "      <th>1</th>\n",
       "      <td>45.0</td>\n",
       "      <td>CA-2019-118255</td>\n",
       "      <td>2019-03-11 00:00:00</td>\n",
       "      <td>First Class</td>\n",
       "      <td>ON-18715</td>\n",
       "      <td>Odella Nelson</td>\n",
       "      <td>Sales</td>\n",
       "      <td>United States</td>\n",
       "      <td>Eagan</td>\n",
       "      <td>Minnesota</td>\n",
       "      <td>...</td>\n",
       "      <td>0.0</td>\n",
       "      <td>19.7714</td>\n",
       "      <td>NaT</td>\n",
       "      <td>NaN</td>\n",
       "      <td>45.0</td>\n",
       "      <td>2019-03-11</td>\n",
       "      <td>2019-03-13</td>\n",
       "      <td>Express</td>\n",
       "      <td>NaT</td>\n",
       "      <td>NaT</td>\n",
       "    </tr>\n",
       "    <tr>\n",
       "      <th>2</th>\n",
       "      <td>48.0</td>\n",
       "      <td>CA-2019-169194</td>\n",
       "      <td>2019-06-20 00:00:00</td>\n",
       "      <td>Standard Class</td>\n",
       "      <td>LH-16900</td>\n",
       "      <td>Lena Hernandez</td>\n",
       "      <td>Email</td>\n",
       "      <td>United States</td>\n",
       "      <td>Dover</td>\n",
       "      <td>Delaware</td>\n",
       "      <td>...</td>\n",
       "      <td>0.0</td>\n",
       "      <td>4.95</td>\n",
       "      <td>NaT</td>\n",
       "      <td>NaN</td>\n",
       "      <td>48.0</td>\n",
       "      <td>2019-06-20</td>\n",
       "      <td>2019-06-26</td>\n",
       "      <td>Standard Processing</td>\n",
       "      <td>NaT</td>\n",
       "      <td>NaT</td>\n",
       "    </tr>\n",
       "    <tr>\n",
       "      <th>3</th>\n",
       "      <td>60.0</td>\n",
       "      <td>CA-2019-111682</td>\n",
       "      <td>2019-06-17 00:00:00</td>\n",
       "      <td>First Class</td>\n",
       "      <td>TB-21055</td>\n",
       "      <td>Ted Butterfield</td>\n",
       "      <td>Email</td>\n",
       "      <td>United States</td>\n",
       "      <td>Troy</td>\n",
       "      <td>New York</td>\n",
       "      <td>...</td>\n",
       "      <td>0.0</td>\n",
       "      <td>3.3</td>\n",
       "      <td>NaT</td>\n",
       "      <td>NaN</td>\n",
       "      <td>56.0</td>\n",
       "      <td>2019-06-17</td>\n",
       "      <td>2019-06-19</td>\n",
       "      <td>Express</td>\n",
       "      <td>NaT</td>\n",
       "      <td>NaT</td>\n",
       "    </tr>\n",
       "    <tr>\n",
       "      <th>4</th>\n",
       "      <td>87.0</td>\n",
       "      <td>CA-2020-155558</td>\n",
       "      <td>2020-10-26 00:00:00</td>\n",
       "      <td>Standard Class</td>\n",
       "      <td>PG-18895</td>\n",
       "      <td>Paul Gonzalez</td>\n",
       "      <td>Email</td>\n",
       "      <td>United States</td>\n",
       "      <td>Rochester</td>\n",
       "      <td>Minnesota</td>\n",
       "      <td>...</td>\n",
       "      <td>0.0</td>\n",
       "      <td>6.7966</td>\n",
       "      <td>NaT</td>\n",
       "      <td>NaN</td>\n",
       "      <td>87.0</td>\n",
       "      <td>2020-10-26</td>\n",
       "      <td>2020-11-04</td>\n",
       "      <td>Standard Processing</td>\n",
       "      <td>NaT</td>\n",
       "      <td>NaT</td>\n",
       "    </tr>\n",
       "  </tbody>\n",
       "</table>\n",
       "<p>5 rows × 27 columns</p>\n",
       "</div>"
      ],
      "text/plain": [
       "  index        order_id         order_date_x     ship_mode_x customer_id  \\\n",
       "0  27.0  CA-2019-121755  2019-01-16 00:00:00    Second Class    EH-13945   \n",
       "1  45.0  CA-2019-118255  2019-03-11 00:00:00     First Class    ON-18715   \n",
       "2  48.0  CA-2019-169194  2019-06-20 00:00:00  Standard Class    LH-16900   \n",
       "3  60.0  CA-2019-111682  2019-06-17 00:00:00     First Class    TB-21055   \n",
       "4  87.0  CA-2020-155558  2020-10-26 00:00:00  Standard Class    PG-18895   \n",
       "\n",
       "   customer_name_x origin_channel country/region         city       state  \\\n",
       "0    Eric Hoffmann          Email  United States  Los Angeles  California   \n",
       "1    Odella Nelson          Sales  United States        Eagan   Minnesota   \n",
       "2   Lena Hernandez          Email  United States        Dover    Delaware   \n",
       "3  Ted Butterfield          Email  United States         Troy    New York   \n",
       "4    Paul Gonzalez          Email  United States    Rochester   Minnesota   \n",
       "\n",
       "   ... discount   profit arrival_scan_date customer_name_y row_id  \\\n",
       "0  ...      0.0  11.7741               NaT             NaN   26.0   \n",
       "1  ...      0.0  19.7714               NaT             NaN   45.0   \n",
       "2  ...      0.0     4.95               NaT             NaN   48.0   \n",
       "3  ...      0.0      3.3               NaT             NaN   56.0   \n",
       "4  ...      0.0   6.7966               NaT             NaN   87.0   \n",
       "\n",
       "  order_date_y on_truck_scan_date          ship_mode_y ready_to_ship_date  \\\n",
       "0   2019-01-16         2019-01-23  Standard Processing                NaT   \n",
       "1   2019-03-11         2019-03-13              Express                NaT   \n",
       "2   2019-06-20         2019-06-26  Standard Processing                NaT   \n",
       "3   2019-06-17         2019-06-19              Express                NaT   \n",
       "4   2020-10-26         2020-11-04  Standard Processing                NaT   \n",
       "\n",
       "  pickup_date  \n",
       "0         NaT  \n",
       "1         NaT  \n",
       "2         NaT  \n",
       "3         NaT  \n",
       "4         NaT  \n",
       "\n",
       "[5 rows x 27 columns]"
      ]
     },
     "execution_count": 8,
     "metadata": {},
     "output_type": "execute_result"
    }
   ],
   "source": [
    "#merge all tables\n",
    "df_arrival= df.merge(df_campaign, how='left' , on='order_id').merge(df_process,how='inner', on='order_id').merge(df_intern,how='left', on='order_id')\n",
    "\n",
    "df_arrival.head()"
   ]
  },
  {
   "cell_type": "code",
   "execution_count": 9,
   "metadata": {},
   "outputs": [],
   "source": [
    "#only take the column that are needed\n",
    "df_arrival_final = df_arrival[[\"order_id\", \"order_date_x\", \"ready_to_ship_date\", \"pickup_date\", \"on_truck_scan_date\", \"arrival_scan_date\", \"ship_mode_y\", \"ship_mode_x\"]]"
   ]
  },
  {
   "cell_type": "markdown",
   "metadata": {},
   "source": [
    "#### Order Process Table"
   ]
  },
  {
   "cell_type": "code",
   "execution_count": 10,
   "metadata": {},
   "outputs": [
    {
     "data": {
      "text/html": [
       "<div>\n",
       "<style scoped>\n",
       "    .dataframe tbody tr th:only-of-type {\n",
       "        vertical-align: middle;\n",
       "    }\n",
       "\n",
       "    .dataframe tbody tr th {\n",
       "        vertical-align: top;\n",
       "    }\n",
       "\n",
       "    .dataframe thead th {\n",
       "        text-align: right;\n",
       "    }\n",
       "</style>\n",
       "<table border=\"1\" class=\"dataframe\">\n",
       "  <thead>\n",
       "    <tr style=\"text-align: right;\">\n",
       "      <th></th>\n",
       "      <th>order_id</th>\n",
       "      <th>order_date_x</th>\n",
       "      <th>on_truck_scan_date</th>\n",
       "      <th>ship_mode_y</th>\n",
       "      <th>ship_mode_x</th>\n",
       "    </tr>\n",
       "  </thead>\n",
       "  <tbody>\n",
       "    <tr>\n",
       "      <th>0</th>\n",
       "      <td>CA-2019-121755</td>\n",
       "      <td>2019-01-16 00:00:00</td>\n",
       "      <td>2019-01-23</td>\n",
       "      <td>Standard Processing</td>\n",
       "      <td>Second Class</td>\n",
       "    </tr>\n",
       "    <tr>\n",
       "      <th>1</th>\n",
       "      <td>CA-2019-118255</td>\n",
       "      <td>2019-03-11 00:00:00</td>\n",
       "      <td>2019-03-13</td>\n",
       "      <td>Express</td>\n",
       "      <td>First Class</td>\n",
       "    </tr>\n",
       "    <tr>\n",
       "      <th>2</th>\n",
       "      <td>CA-2019-169194</td>\n",
       "      <td>2019-06-20 00:00:00</td>\n",
       "      <td>2019-06-26</td>\n",
       "      <td>Standard Processing</td>\n",
       "      <td>Standard Class</td>\n",
       "    </tr>\n",
       "    <tr>\n",
       "      <th>3</th>\n",
       "      <td>CA-2019-111682</td>\n",
       "      <td>2019-06-17 00:00:00</td>\n",
       "      <td>2019-06-19</td>\n",
       "      <td>Express</td>\n",
       "      <td>First Class</td>\n",
       "    </tr>\n",
       "    <tr>\n",
       "      <th>4</th>\n",
       "      <td>CA-2020-155558</td>\n",
       "      <td>2020-10-26 00:00:00</td>\n",
       "      <td>2020-11-04</td>\n",
       "      <td>Standard Processing</td>\n",
       "      <td>Standard Class</td>\n",
       "    </tr>\n",
       "  </tbody>\n",
       "</table>\n",
       "</div>"
      ],
      "text/plain": [
       "         order_id         order_date_x on_truck_scan_date  \\\n",
       "0  CA-2019-121755  2019-01-16 00:00:00         2019-01-23   \n",
       "1  CA-2019-118255  2019-03-11 00:00:00         2019-03-13   \n",
       "2  CA-2019-169194  2019-06-20 00:00:00         2019-06-26   \n",
       "3  CA-2019-111682  2019-06-17 00:00:00         2019-06-19   \n",
       "4  CA-2020-155558  2020-10-26 00:00:00         2020-11-04   \n",
       "\n",
       "           ship_mode_y     ship_mode_x  \n",
       "0  Standard Processing    Second Class  \n",
       "1              Express     First Class  \n",
       "2  Standard Processing  Standard Class  \n",
       "3              Express     First Class  \n",
       "4  Standard Processing  Standard Class  "
      ]
     },
     "execution_count": 10,
     "metadata": {},
     "output_type": "execute_result"
    }
   ],
   "source": [
    "#the final order process table - take only columns needed from the df_arrival_final\n",
    "df_order_process_final = df_arrival_final[[\"order_id\", \"order_date_x\", \"on_truck_scan_date\" ,\"ship_mode_y\", \"ship_mode_x\"]]\n",
    "df_order_process_final.head()"
   ]
  },
  {
   "cell_type": "code",
   "execution_count": 123,
   "metadata": {},
   "outputs": [
    {
     "name": "stderr",
     "output_type": "stream",
     "text": [
      "/var/folders/6n/n70xt0sd2x36v6q769jm7gw80000gn/T/ipykernel_35983/462241309.py:1: SettingWithCopyWarning: \n",
      "A value is trying to be set on a copy of a slice from a DataFrame.\n",
      "Try using .loc[row_indexer,col_indexer] = value instead\n",
      "\n",
      "See the caveats in the documentation: https://pandas.pydata.org/pandas-docs/stable/user_guide/indexing.html#returning-a-view-versus-a-copy\n",
      "  df_order_process_final[\"on_truck_weekday\"] = df_order_process_final[\"on_truck_scan_date\"].dt.day_name()\n"
     ]
    }
   ],
   "source": [
    "df_order_process_final[\"on_truck_weekday\"] = df_order_process_final[\"on_truck_scan_date\"].dt.day_name()"
   ]
  },
  {
   "cell_type": "markdown",
   "metadata": {},
   "source": [
    "#### Campaign Table"
   ]
  },
  {
   "cell_type": "code",
   "execution_count": 11,
   "metadata": {},
   "outputs": [],
   "source": [
    "#the final campaign table\n",
    "df_campaign_final = df_order_process_final.merge(df_campaign, how='inner' , on='order_id')"
   ]
  },
  {
   "cell_type": "code",
   "execution_count": 12,
   "metadata": {},
   "outputs": [],
   "source": [
    "#to cut out the weekend and only have weekdays\n",
    "df_campaign_final[\"total_delivery_days\"]=np.busday_count(df_campaign_final ['order_date_x'].values.astype('datetime64[D]'), df_campaign_final ['arrival_scan_date'].values.astype('datetime64[D]'), weekmask='Mon Tue Wed Thu Fri')"
   ]
  },
  {
   "cell_type": "code",
   "execution_count": 13,
   "metadata": {},
   "outputs": [
    {
     "name": "stderr",
     "output_type": "stream",
     "text": [
      "/opt/anaconda3/envs/muelsi/lib/python3.9/site-packages/pandas/core/arrays/datetimelike.py:1187: PerformanceWarning: Adding/subtracting object-dtype array to DatetimeArray not vectorized\n",
      "  warnings.warn(\n"
     ]
    }
   ],
   "source": [
    "df_campaign_final['total_delivery_days_w_weekend'] = (df_campaign_final['arrival_scan_date'] - df_campaign_final['order_date_x']).dt.days "
   ]
  },
  {
   "cell_type": "code",
   "execution_count": 14,
   "metadata": {},
   "outputs": [],
   "source": [
    "df_campaign_final[\"week_day_arrival\"] =df_campaign_final[\"arrival_scan_date\"].dt.day_name()"
   ]
  },
  {
   "cell_type": "code",
   "execution_count": 15,
   "metadata": {},
   "outputs": [],
   "source": [
    "df_campaign_final['order_date_x'] = pd.to_datetime(df_campaign_final['order_date_x'])\n",
    "df_campaign_final[\"week_day_arrival\"] =df_campaign_final[\"arrival_scan_date\"].dt.day_name()\n",
    "df_campaign_final[\"week_day_order\"] =df_campaign_final[\"order_date_x\"].dt.day_name()\n"
   ]
  },
  {
   "cell_type": "code",
   "execution_count": 16,
   "metadata": {},
   "outputs": [],
   "source": [
    "df_campaign_final['how_many_weekends'] = ((df_campaign_final['total_delivery_days_w_weekend'] - df_campaign_final['total_delivery_days'])/2)\n",
    "df_campaign_final['how_many_weekends'] = df_campaign_final['how_many_weekends'].astype('int64')"
   ]
  },
  {
   "cell_type": "code",
   "execution_count": 63,
   "metadata": {},
   "outputs": [],
   "source": [
    "df_campaign_final['days_till_delivery'] = (df_campaign_final['arrival_scan_date'] - df_campaign_final['on_truck_scan_date']).dt.days "
   ]
  },
  {
   "cell_type": "code",
   "execution_count": 64,
   "metadata": {},
   "outputs": [
    {
     "data": {
      "text/html": [
       "<div>\n",
       "<style scoped>\n",
       "    .dataframe tbody tr th:only-of-type {\n",
       "        vertical-align: middle;\n",
       "    }\n",
       "\n",
       "    .dataframe tbody tr th {\n",
       "        vertical-align: top;\n",
       "    }\n",
       "\n",
       "    .dataframe thead th {\n",
       "        text-align: right;\n",
       "    }\n",
       "</style>\n",
       "<table border=\"1\" class=\"dataframe\">\n",
       "  <thead>\n",
       "    <tr style=\"text-align: right;\">\n",
       "      <th></th>\n",
       "      <th>order_id</th>\n",
       "      <th>order_date_x</th>\n",
       "      <th>on_truck_scan_date</th>\n",
       "      <th>ship_mode_y</th>\n",
       "      <th>ship_mode_x</th>\n",
       "      <th>arrival_scan_date</th>\n",
       "      <th>customer_name</th>\n",
       "      <th>total_delivery_days</th>\n",
       "      <th>total_delivery_days_w_weekend</th>\n",
       "      <th>week_day_arrival</th>\n",
       "      <th>week_day_order</th>\n",
       "      <th>how_many_weekends</th>\n",
       "      <th>days_till_delivery</th>\n",
       "    </tr>\n",
       "  </thead>\n",
       "  <tbody>\n",
       "    <tr>\n",
       "      <th>0</th>\n",
       "      <td>CA-2019-145625</td>\n",
       "      <td>2019-09-11</td>\n",
       "      <td>2019-09-18</td>\n",
       "      <td>Standard Processing</td>\n",
       "      <td>Standard Class</td>\n",
       "      <td>2019-09-23</td>\n",
       "      <td>Kelly Collister</td>\n",
       "      <td>8</td>\n",
       "      <td>12</td>\n",
       "      <td>Monday</td>\n",
       "      <td>Wednesday</td>\n",
       "      <td>2</td>\n",
       "      <td>5</td>\n",
       "    </tr>\n",
       "    <tr>\n",
       "      <th>1</th>\n",
       "      <td>CA-2019-162138</td>\n",
       "      <td>2019-04-23</td>\n",
       "      <td>2019-05-01</td>\n",
       "      <td>Standard Processing</td>\n",
       "      <td>Standard Class</td>\n",
       "      <td>2019-05-06</td>\n",
       "      <td>Grace Kelly</td>\n",
       "      <td>9</td>\n",
       "      <td>13</td>\n",
       "      <td>Monday</td>\n",
       "      <td>Tuesday</td>\n",
       "      <td>2</td>\n",
       "      <td>5</td>\n",
       "    </tr>\n",
       "    <tr>\n",
       "      <th>2</th>\n",
       "      <td>CA-2019-169166</td>\n",
       "      <td>2019-05-09</td>\n",
       "      <td>2019-05-15</td>\n",
       "      <td>Standard Processing</td>\n",
       "      <td>Standard Class</td>\n",
       "      <td>2019-05-20</td>\n",
       "      <td>Sonia Sunley</td>\n",
       "      <td>7</td>\n",
       "      <td>11</td>\n",
       "      <td>Monday</td>\n",
       "      <td>Thursday</td>\n",
       "      <td>2</td>\n",
       "      <td>5</td>\n",
       "    </tr>\n",
       "    <tr>\n",
       "      <th>3</th>\n",
       "      <td>CA-2020-131954</td>\n",
       "      <td>2020-01-21</td>\n",
       "      <td>2020-01-29</td>\n",
       "      <td>Standard Processing</td>\n",
       "      <td>Standard Class</td>\n",
       "      <td>2020-02-03</td>\n",
       "      <td>Darrin Sayre</td>\n",
       "      <td>9</td>\n",
       "      <td>13</td>\n",
       "      <td>Monday</td>\n",
       "      <td>Tuesday</td>\n",
       "      <td>2</td>\n",
       "      <td>5</td>\n",
       "    </tr>\n",
       "    <tr>\n",
       "      <th>4</th>\n",
       "      <td>CA-2019-102981</td>\n",
       "      <td>2019-09-06</td>\n",
       "      <td>2019-09-11</td>\n",
       "      <td>Standard Processing</td>\n",
       "      <td>Second Class</td>\n",
       "      <td>2019-09-16</td>\n",
       "      <td>Mary O'Rourke</td>\n",
       "      <td>6</td>\n",
       "      <td>10</td>\n",
       "      <td>Monday</td>\n",
       "      <td>Friday</td>\n",
       "      <td>2</td>\n",
       "      <td>5</td>\n",
       "    </tr>\n",
       "  </tbody>\n",
       "</table>\n",
       "</div>"
      ],
      "text/plain": [
       "         order_id order_date_x on_truck_scan_date          ship_mode_y  \\\n",
       "0  CA-2019-145625   2019-09-11         2019-09-18  Standard Processing   \n",
       "1  CA-2019-162138   2019-04-23         2019-05-01  Standard Processing   \n",
       "2  CA-2019-169166   2019-05-09         2019-05-15  Standard Processing   \n",
       "3  CA-2020-131954   2020-01-21         2020-01-29  Standard Processing   \n",
       "4  CA-2019-102981   2019-09-06         2019-09-11  Standard Processing   \n",
       "\n",
       "      ship_mode_x arrival_scan_date    customer_name  total_delivery_days  \\\n",
       "0  Standard Class        2019-09-23  Kelly Collister                    8   \n",
       "1  Standard Class        2019-05-06      Grace Kelly                    9   \n",
       "2  Standard Class        2019-05-20     Sonia Sunley                    7   \n",
       "3  Standard Class        2020-02-03     Darrin Sayre                    9   \n",
       "4    Second Class        2019-09-16    Mary O'Rourke                    6   \n",
       "\n",
       "   total_delivery_days_w_weekend week_day_arrival week_day_order  \\\n",
       "0                             12           Monday      Wednesday   \n",
       "1                             13           Monday        Tuesday   \n",
       "2                             11           Monday       Thursday   \n",
       "3                             13           Monday        Tuesday   \n",
       "4                             10           Monday         Friday   \n",
       "\n",
       "   how_many_weekends  days_till_delivery  \n",
       "0                  2                   5  \n",
       "1                  2                   5  \n",
       "2                  2                   5  \n",
       "3                  2                   5  \n",
       "4                  2                   5  "
      ]
     },
     "execution_count": 64,
     "metadata": {},
     "output_type": "execute_result"
    }
   ],
   "source": [
    "df_campaign_final.head()"
   ]
  },
  {
   "cell_type": "markdown",
   "metadata": {},
   "source": [
    "#### Intern Table"
   ]
  },
  {
   "cell_type": "code",
   "execution_count": 18,
   "metadata": {},
   "outputs": [],
   "source": [
    "#the final intern table\n",
    "df_intern_final = df_order_process_final.merge(df_intern, how='inner' , on='order_id')"
   ]
  },
  {
   "cell_type": "code",
   "execution_count": 19,
   "metadata": {},
   "outputs": [],
   "source": [
    "#to cut out the weekend and only have weekdays\n",
    "df_intern_final[\"work_days_to_process\"]=np.busday_count(df_intern_final ['order_date_x'].values.astype('datetime64[D]'), df_intern_final ['ready_to_ship_date'].values.astype('datetime64[D]'), weekmask='Mon Tue Wed Thu Fri')"
   ]
  },
  {
   "cell_type": "code",
   "execution_count": 20,
   "metadata": {},
   "outputs": [],
   "source": [
    "#to cut out the weekend and only have weekdays\n",
    "df_intern_final[\"work_days_to_truck\"]=np.busday_count(df_intern_final ['order_date_x'].values.astype('datetime64[D]'), df_intern_final ['on_truck_scan_date'].values.astype('datetime64[D]'), weekmask='Mon Tue Wed Thu Fri')"
   ]
  },
  {
   "cell_type": "code",
   "execution_count": 21,
   "metadata": {},
   "outputs": [],
   "source": [
    "df_intern_final['waiting_for_truck'] = df_intern_final['work_days_to_truck'] - df_intern_final['work_days_to_process']"
   ]
  },
  {
   "cell_type": "code",
   "execution_count": 22,
   "metadata": {},
   "outputs": [],
   "source": [
    "df_intern_final = df_intern_final[[\"order_id\",\"order_date_x\",\"on_truck_scan_date\",\"ship_mode_y\",\"ship_mode_x\",\"ready_to_ship_date\",\"pickup_date\",\"work_days_to_process\",\"waiting_for_truck\",\"work_days_to_truck\"]]"
   ]
  },
  {
   "cell_type": "code",
   "execution_count": 105,
   "metadata": {},
   "outputs": [
    {
     "data": {
      "text/html": [
       "<div>\n",
       "<style scoped>\n",
       "    .dataframe tbody tr th:only-of-type {\n",
       "        vertical-align: middle;\n",
       "    }\n",
       "\n",
       "    .dataframe tbody tr th {\n",
       "        vertical-align: top;\n",
       "    }\n",
       "\n",
       "    .dataframe thead th {\n",
       "        text-align: right;\n",
       "    }\n",
       "</style>\n",
       "<table border=\"1\" class=\"dataframe\">\n",
       "  <thead>\n",
       "    <tr style=\"text-align: right;\">\n",
       "      <th></th>\n",
       "      <th>order_id</th>\n",
       "      <th>order_date_x</th>\n",
       "      <th>on_truck_scan_date</th>\n",
       "      <th>ship_mode_y</th>\n",
       "      <th>ship_mode_x</th>\n",
       "      <th>ready_to_ship_date</th>\n",
       "      <th>pickup_date</th>\n",
       "      <th>work_days_to_process</th>\n",
       "      <th>waiting_for_truck</th>\n",
       "      <th>work_days_to_truck</th>\n",
       "    </tr>\n",
       "  </thead>\n",
       "  <tbody>\n",
       "    <tr>\n",
       "      <th>0</th>\n",
       "      <td>CA-2020-119004</td>\n",
       "      <td>2020-11-23 00:00:00</td>\n",
       "      <td>2020-12-02</td>\n",
       "      <td>Standard Processing</td>\n",
       "      <td>Standard Class</td>\n",
       "      <td>2020-11-30</td>\n",
       "      <td>2020-12-02</td>\n",
       "      <td>5</td>\n",
       "      <td>2</td>\n",
       "      <td>7</td>\n",
       "    </tr>\n",
       "  </tbody>\n",
       "</table>\n",
       "</div>"
      ],
      "text/plain": [
       "         order_id         order_date_x on_truck_scan_date  \\\n",
       "0  CA-2020-119004  2020-11-23 00:00:00         2020-12-02   \n",
       "\n",
       "           ship_mode_y     ship_mode_x ready_to_ship_date pickup_date  \\\n",
       "0  Standard Processing  Standard Class         2020-11-30  2020-12-02   \n",
       "\n",
       "   work_days_to_process  waiting_for_truck  work_days_to_truck  \n",
       "0                     5                  2                   7  "
      ]
     },
     "execution_count": 105,
     "metadata": {},
     "output_type": "execute_result"
    }
   ],
   "source": [
    "df_intern_final.head(1)"
   ]
  },
  {
   "cell_type": "code",
   "execution_count": 106,
   "metadata": {},
   "outputs": [],
   "source": [
    "df_intern_final[\"week_day_ready_to_ship\"] = df_intern_final[\"ready_to_ship_date\"].dt.day_name()"
   ]
  },
  {
   "cell_type": "code",
   "execution_count": 107,
   "metadata": {},
   "outputs": [
    {
     "data": {
      "text/html": [
       "<div>\n",
       "<style scoped>\n",
       "    .dataframe tbody tr th:only-of-type {\n",
       "        vertical-align: middle;\n",
       "    }\n",
       "\n",
       "    .dataframe tbody tr th {\n",
       "        vertical-align: top;\n",
       "    }\n",
       "\n",
       "    .dataframe thead th {\n",
       "        text-align: right;\n",
       "    }\n",
       "</style>\n",
       "<table border=\"1\" class=\"dataframe\">\n",
       "  <thead>\n",
       "    <tr style=\"text-align: right;\">\n",
       "      <th></th>\n",
       "      <th>order_id</th>\n",
       "      <th>order_date_x</th>\n",
       "      <th>on_truck_scan_date</th>\n",
       "      <th>ship_mode_y</th>\n",
       "      <th>ship_mode_x</th>\n",
       "      <th>ready_to_ship_date</th>\n",
       "      <th>pickup_date</th>\n",
       "      <th>work_days_to_process</th>\n",
       "      <th>waiting_for_truck</th>\n",
       "      <th>work_days_to_truck</th>\n",
       "      <th>week_day_ready_to_ship</th>\n",
       "    </tr>\n",
       "  </thead>\n",
       "  <tbody>\n",
       "    <tr>\n",
       "      <th>0</th>\n",
       "      <td>CA-2020-119004</td>\n",
       "      <td>2020-11-23 00:00:00</td>\n",
       "      <td>2020-12-02</td>\n",
       "      <td>Standard Processing</td>\n",
       "      <td>Standard Class</td>\n",
       "      <td>2020-11-30</td>\n",
       "      <td>2020-12-02</td>\n",
       "      <td>5</td>\n",
       "      <td>2</td>\n",
       "      <td>7</td>\n",
       "      <td>Monday</td>\n",
       "    </tr>\n",
       "    <tr>\n",
       "      <th>1</th>\n",
       "      <td>CA-2019-145625</td>\n",
       "      <td>2019-09-11 00:00:00</td>\n",
       "      <td>2019-09-18</td>\n",
       "      <td>Standard Processing</td>\n",
       "      <td>Standard Class</td>\n",
       "      <td>2019-09-17</td>\n",
       "      <td>2019-09-18</td>\n",
       "      <td>4</td>\n",
       "      <td>1</td>\n",
       "      <td>5</td>\n",
       "      <td>Tuesday</td>\n",
       "    </tr>\n",
       "    <tr>\n",
       "      <th>2</th>\n",
       "      <td>CA-2020-135307</td>\n",
       "      <td>2020-11-26 00:00:00</td>\n",
       "      <td>2020-11-27</td>\n",
       "      <td>Express</td>\n",
       "      <td>First Class</td>\n",
       "      <td>2020-11-27</td>\n",
       "      <td>2020-11-27</td>\n",
       "      <td>1</td>\n",
       "      <td>0</td>\n",
       "      <td>1</td>\n",
       "      <td>Friday</td>\n",
       "    </tr>\n",
       "    <tr>\n",
       "      <th>3</th>\n",
       "      <td>CA-2019-102981</td>\n",
       "      <td>2019-09-06 00:00:00</td>\n",
       "      <td>2019-09-11</td>\n",
       "      <td>Standard Processing</td>\n",
       "      <td>Second Class</td>\n",
       "      <td>2019-09-09</td>\n",
       "      <td>2019-09-11</td>\n",
       "      <td>1</td>\n",
       "      <td>2</td>\n",
       "      <td>3</td>\n",
       "      <td>Monday</td>\n",
       "    </tr>\n",
       "    <tr>\n",
       "      <th>4</th>\n",
       "      <td>US-2020-155425</td>\n",
       "      <td>2020-11-10 00:00:00</td>\n",
       "      <td>2020-11-12</td>\n",
       "      <td>Express</td>\n",
       "      <td>First Class</td>\n",
       "      <td>2020-11-11</td>\n",
       "      <td>2020-11-12</td>\n",
       "      <td>1</td>\n",
       "      <td>1</td>\n",
       "      <td>2</td>\n",
       "      <td>Wednesday</td>\n",
       "    </tr>\n",
       "  </tbody>\n",
       "</table>\n",
       "</div>"
      ],
      "text/plain": [
       "         order_id         order_date_x on_truck_scan_date  \\\n",
       "0  CA-2020-119004  2020-11-23 00:00:00         2020-12-02   \n",
       "1  CA-2019-145625  2019-09-11 00:00:00         2019-09-18   \n",
       "2  CA-2020-135307  2020-11-26 00:00:00         2020-11-27   \n",
       "3  CA-2019-102981  2019-09-06 00:00:00         2019-09-11   \n",
       "4  US-2020-155425  2020-11-10 00:00:00         2020-11-12   \n",
       "\n",
       "           ship_mode_y     ship_mode_x ready_to_ship_date pickup_date  \\\n",
       "0  Standard Processing  Standard Class         2020-11-30  2020-12-02   \n",
       "1  Standard Processing  Standard Class         2019-09-17  2019-09-18   \n",
       "2              Express     First Class         2020-11-27  2020-11-27   \n",
       "3  Standard Processing    Second Class         2019-09-09  2019-09-11   \n",
       "4              Express     First Class         2020-11-11  2020-11-12   \n",
       "\n",
       "   work_days_to_process  waiting_for_truck  work_days_to_truck  \\\n",
       "0                     5                  2                   7   \n",
       "1                     4                  1                   5   \n",
       "2                     1                  0                   1   \n",
       "3                     1                  2                   3   \n",
       "4                     1                  1                   2   \n",
       "\n",
       "  week_day_ready_to_ship  \n",
       "0                 Monday  \n",
       "1                Tuesday  \n",
       "2                 Friday  \n",
       "3                 Monday  \n",
       "4              Wednesday  "
      ]
     },
     "execution_count": 107,
     "metadata": {},
     "output_type": "execute_result"
    }
   ],
   "source": [
    "df_intern_final.head()"
   ]
  },
  {
   "cell_type": "code",
   "execution_count": null,
   "metadata": {},
   "outputs": [],
   "source": []
  },
  {
   "cell_type": "markdown",
   "metadata": {},
   "source": [
    "## Exploratory Data Analysis"
   ]
  },
  {
   "cell_type": "markdown",
   "metadata": {},
   "source": [
    "#### Profit"
   ]
  },
  {
   "cell_type": "code",
   "execution_count": 39,
   "metadata": {},
   "outputs": [
    {
     "data": {
      "image/png": "[encoded data removed]",
      "text/plain": [
       "<Figure size 1440x864 with 1 Axes>"
      ]
     },
     "metadata": {
      "needs_background": "light"
     },
     "output_type": "display_data"
    }
   ],
   "source": [
    "plt.figure(figsize=(20,12))\n",
    "\n",
    "\n",
    "sns.lineplot(x='month',y='profit',data=sales_profit_1,hue='year',linewidth=2.5,palette='Set1'\n",
    ")\n",
    "plt.legend(fontsize=25)\n",
    "plt.xlabel('Month', size=20)\n",
    "plt.ylabel('Profit', size=20);\n",
    "plt.title(\"Profit over years\", size=24)\n",
    "sns.set(font_scale = 0.9)\n"
   ]
  },
  {
   "cell_type": "markdown",
   "metadata": {},
   "source": [
    "#### Understanding the Delivery process"
   ]
  },
  {
   "cell_type": "markdown",
   "metadata": {},
   "source": [
    "<img src=\"./images/Supply_chain.png\" width=70% height=70%>"
   ]
  },
  {
   "cell_type": "markdown",
   "metadata": {},
   "source": [
    "__Whats our Data?__"
   ]
  },
  {
   "cell_type": "markdown",
   "metadata": {},
   "source": [
    "<img src=\"./images/Data_source.png\" width=70% height=70%>"
   ]
  },
  {
   "cell_type": "markdown",
   "metadata": {},
   "source": [
    "__Is it enough?__"
   ]
  },
  {
   "cell_type": "markdown",
   "metadata": {},
   "source": [
    "<img src=\"./images/Data.png\" width=70% height=70%>"
   ]
  },
  {
   "cell_type": "markdown",
   "metadata": {},
   "source": [
    "__Now lets find out what the data tells us__"
   ]
  },
  {
   "cell_type": "markdown",
   "metadata": {},
   "source": [
    "#### Thesis of warehouse manager: \"order processes in warehouse normally take 2 days\"\n",
    "\n",
    "    Is this true?"
   ]
  },
  {
   "cell_type": "code",
   "execution_count": 128,
   "metadata": {},
   "outputs": [
    {
     "data": {
      "image/png": "[encoded data removed]",
      "text/plain": [
       "<Figure size 432x288 with 1 Axes>"
      ]
     },
     "metadata": {},
     "output_type": "display_data"
    }
   ],
   "source": [
    "process_days = df_intern_final[[\"order_id\",\"work_days_to_process\",\"waiting_for_truck\",\"work_days_to_truck\"]]\n",
    "\n",
    "# define style\n",
    "plt.style.use('seaborn-bright') \n",
    "\n",
    "# Set figure size\n",
    "plt.figure(figsize=(6, 4))\n",
    "\n",
    "# Create boxplots for distribution of alcohol and fixed acidity\n",
    "plt.boxplot(x = [process_days[\"work_days_to_process\"], process_days[\"waiting_for_truck\"],process_days[\"work_days_to_truck\"]])\n",
    "\n",
    "# Set locations and labels of ticks on x-axis as well as rotation\n",
    "plt.xticks(ticks=[1, 2,3], labels=['Work days', 'Wait as ready to Ship','From order to Shipment'], rotation=45)\n",
    "plt.ylabel('Days')\n",
    "# Set title\n",
    "plt.title(\"Duration of orders in Warehouse\", fontsize = 15);"
   ]
  },
  {
   "cell_type": "markdown",
   "metadata": {},
   "source": [
    "* On Average, it takes the warehouse 2,8 days, to get process one order.<br>\n",
    "* Only 38% of orders are being processed in 2 days or less.\n",
    "<br>\n",
    "\n",
    "**Let's take a deeper look at EXPRESS and STANDARD processing.**\n"
   ]
  },
  {
   "cell_type": "code",
   "execution_count": 62,
   "metadata": {},
   "outputs": [
    {
     "data": {
      "text/html": [
       "<div>\n",
       "<style scoped>\n",
       "    .dataframe tbody tr th:only-of-type {\n",
       "        vertical-align: middle;\n",
       "    }\n",
       "\n",
       "    .dataframe tbody tr th {\n",
       "        vertical-align: top;\n",
       "    }\n",
       "\n",
       "    .dataframe thead th {\n",
       "        text-align: right;\n",
       "    }\n",
       "</style>\n",
       "<table border=\"1\" class=\"dataframe\">\n",
       "  <thead>\n",
       "    <tr style=\"text-align: right;\">\n",
       "      <th></th>\n",
       "      <th>count</th>\n",
       "      <th>mean</th>\n",
       "      <th>std</th>\n",
       "      <th>min</th>\n",
       "      <th>25%</th>\n",
       "      <th>50%</th>\n",
       "      <th>75%</th>\n",
       "      <th>max</th>\n",
       "    </tr>\n",
       "    <tr>\n",
       "      <th>ship_mode_y</th>\n",
       "      <th></th>\n",
       "      <th></th>\n",
       "      <th></th>\n",
       "      <th></th>\n",
       "      <th></th>\n",
       "      <th></th>\n",
       "      <th></th>\n",
       "      <th></th>\n",
       "    </tr>\n",
       "  </thead>\n",
       "  <tbody>\n",
       "    <tr>\n",
       "      <th>Express</th>\n",
       "      <td>53.0</td>\n",
       "      <td>1.396226</td>\n",
       "      <td>1.182234</td>\n",
       "      <td>0.0</td>\n",
       "      <td>0.0</td>\n",
       "      <td>2.0</td>\n",
       "      <td>2.0</td>\n",
       "      <td>3.0</td>\n",
       "    </tr>\n",
       "    <tr>\n",
       "      <th>Standard Processing</th>\n",
       "      <td>151.0</td>\n",
       "      <td>3.251656</td>\n",
       "      <td>1.155962</td>\n",
       "      <td>0.0</td>\n",
       "      <td>2.5</td>\n",
       "      <td>3.0</td>\n",
       "      <td>4.0</td>\n",
       "      <td>5.0</td>\n",
       "    </tr>\n",
       "  </tbody>\n",
       "</table>\n",
       "</div>"
      ],
      "text/plain": [
       "                     count      mean       std  min  25%  50%  75%  max\n",
       "ship_mode_y                                                            \n",
       "Express               53.0  1.396226  1.182234  0.0  0.0  2.0  2.0  3.0\n",
       "Standard Processing  151.0  3.251656  1.155962  0.0  2.5  3.0  4.0  5.0"
      ]
     },
     "execution_count": 62,
     "metadata": {},
     "output_type": "execute_result"
    }
   ],
   "source": [
    "df_intern_final.groupby('ship_mode_y')['work_days_to_process'].describe()"
   ]
  },
  {
   "cell_type": "markdown",
   "metadata": {},
   "source": [
    "* EXPRESS processing takes 1,39 days on average to get the label \"ready to ship\".\n",
    "\n",
    "* For round about 75% of all orders the processing time takes 3,25 days on average.\n",
    "\n",
    "* Here by the thesis of the warehouse manager is NOT true."
   ]
  },
  {
   "cell_type": "markdown",
   "metadata": {},
   "source": [
    "#### Next thesis: “logistic company has an on average 3 day delivery to all locations”\n",
    "\n",
    "    How about that?"
   ]
  },
  {
   "cell_type": "code",
   "execution_count": 129,
   "metadata": {},
   "outputs": [
    {
     "data": {
      "image/png": "[encoded data removed]",
      "text/plain": [
       "<Figure size 432x288 with 1 Axes>"
      ]
     },
     "metadata": {},
     "output_type": "display_data"
    }
   ],
   "source": [
    "# define style\n",
    "plt.style.use('seaborn-bright') \n",
    "\n",
    "# Set figure size\n",
    "plt.figure(figsize=(6, 4))\n",
    "\n",
    "# Create boxplots for distribution of alcohol and fixed acidity\n",
    "plt.boxplot(x = [df_campaign_final[\"days_till_delivery\"]])\n",
    "\n",
    "# Set locations and labels of ticks on x-axis as well as rotation\n",
    "plt.xticks(ticks=[1], labels=['Days till delivery'], rotation=0)\n",
    "plt.ylabel('Days')\n",
    "# Set title\n",
    "plt.title(\"Duration of delivery \", fontsize = 15);"
   ]
  },
  {
   "cell_type": "markdown",
   "metadata": {},
   "source": [
    "* The average delivery time is 4,6 days and the median time is 5 days\n",
    "* Only 19,5 percent of the time the delivery promise of our logistic partner is kept"
   ]
  },
  {
   "cell_type": "markdown",
   "metadata": {},
   "source": [
    "__Let's take a deeper look at the different Shipping modes.__"
   ]
  },
  {
   "cell_type": "code",
   "execution_count": 78,
   "metadata": {},
   "outputs": [
    {
     "data": {
      "text/html": [
       "<div>\n",
       "<style scoped>\n",
       "    .dataframe tbody tr th:only-of-type {\n",
       "        vertical-align: middle;\n",
       "    }\n",
       "\n",
       "    .dataframe tbody tr th {\n",
       "        vertical-align: top;\n",
       "    }\n",
       "\n",
       "    .dataframe thead th {\n",
       "        text-align: right;\n",
       "    }\n",
       "</style>\n",
       "<table border=\"1\" class=\"dataframe\">\n",
       "  <thead>\n",
       "    <tr style=\"text-align: right;\">\n",
       "      <th></th>\n",
       "      <th>count</th>\n",
       "      <th>mean</th>\n",
       "      <th>std</th>\n",
       "      <th>min</th>\n",
       "      <th>25%</th>\n",
       "      <th>50%</th>\n",
       "      <th>75%</th>\n",
       "      <th>max</th>\n",
       "    </tr>\n",
       "    <tr>\n",
       "      <th>ship_mode_x</th>\n",
       "      <th></th>\n",
       "      <th></th>\n",
       "      <th></th>\n",
       "      <th></th>\n",
       "      <th></th>\n",
       "      <th></th>\n",
       "      <th></th>\n",
       "      <th></th>\n",
       "    </tr>\n",
       "  </thead>\n",
       "  <tbody>\n",
       "    <tr>\n",
       "      <th>First Class</th>\n",
       "      <td>75.0</td>\n",
       "      <td>4.48000</td>\n",
       "      <td>1.339221</td>\n",
       "      <td>2.0</td>\n",
       "      <td>3.0</td>\n",
       "      <td>5.0</td>\n",
       "      <td>5.0</td>\n",
       "      <td>7.0</td>\n",
       "    </tr>\n",
       "    <tr>\n",
       "      <th>Second Class</th>\n",
       "      <td>58.0</td>\n",
       "      <td>4.62069</td>\n",
       "      <td>1.225856</td>\n",
       "      <td>2.0</td>\n",
       "      <td>4.0</td>\n",
       "      <td>5.0</td>\n",
       "      <td>5.0</td>\n",
       "      <td>7.0</td>\n",
       "    </tr>\n",
       "    <tr>\n",
       "      <th>Standard Class</th>\n",
       "      <td>200.0</td>\n",
       "      <td>4.64500</td>\n",
       "      <td>1.138179</td>\n",
       "      <td>1.0</td>\n",
       "      <td>4.0</td>\n",
       "      <td>5.0</td>\n",
       "      <td>5.0</td>\n",
       "      <td>7.0</td>\n",
       "    </tr>\n",
       "  </tbody>\n",
       "</table>\n",
       "</div>"
      ],
      "text/plain": [
       "                count     mean       std  min  25%  50%  75%  max\n",
       "ship_mode_x                                                      \n",
       "First Class      75.0  4.48000  1.339221  2.0  3.0  5.0  5.0  7.0\n",
       "Second Class     58.0  4.62069  1.225856  2.0  4.0  5.0  5.0  7.0\n",
       "Standard Class  200.0  4.64500  1.138179  1.0  4.0  5.0  5.0  7.0"
      ]
     },
     "metadata": {},
     "output_type": "display_data"
    },
    {
     "data": {
      "text/html": [
       "<div>\n",
       "<style scoped>\n",
       "    .dataframe tbody tr th:only-of-type {\n",
       "        vertical-align: middle;\n",
       "    }\n",
       "\n",
       "    .dataframe tbody tr th {\n",
       "        vertical-align: top;\n",
       "    }\n",
       "\n",
       "    .dataframe thead th {\n",
       "        text-align: right;\n",
       "    }\n",
       "</style>\n",
       "<table border=\"1\" class=\"dataframe\">\n",
       "  <thead>\n",
       "    <tr style=\"text-align: right;\">\n",
       "      <th>days_till_delivery</th>\n",
       "      <th>1</th>\n",
       "      <th>2</th>\n",
       "      <th>3</th>\n",
       "      <th>4</th>\n",
       "      <th>5</th>\n",
       "      <th>6</th>\n",
       "      <th>7</th>\n",
       "    </tr>\n",
       "    <tr>\n",
       "      <th>ship_mode_x</th>\n",
       "      <th></th>\n",
       "      <th></th>\n",
       "      <th></th>\n",
       "      <th></th>\n",
       "      <th></th>\n",
       "      <th></th>\n",
       "      <th></th>\n",
       "    </tr>\n",
       "  </thead>\n",
       "  <tbody>\n",
       "    <tr>\n",
       "      <th>First Class</th>\n",
       "      <td>0.0</td>\n",
       "      <td>4.00</td>\n",
       "      <td>25.33</td>\n",
       "      <td>17.33</td>\n",
       "      <td>36.00</td>\n",
       "      <td>6.67</td>\n",
       "      <td>10.67</td>\n",
       "    </tr>\n",
       "    <tr>\n",
       "      <th>Second Class</th>\n",
       "      <td>0.0</td>\n",
       "      <td>5.17</td>\n",
       "      <td>15.52</td>\n",
       "      <td>15.52</td>\n",
       "      <td>46.55</td>\n",
       "      <td>10.34</td>\n",
       "      <td>6.90</td>\n",
       "    </tr>\n",
       "    <tr>\n",
       "      <th>Standard Class</th>\n",
       "      <td>1.5</td>\n",
       "      <td>5.50</td>\n",
       "      <td>8.50</td>\n",
       "      <td>11.00</td>\n",
       "      <td>62.50</td>\n",
       "      <td>7.00</td>\n",
       "      <td>4.00</td>\n",
       "    </tr>\n",
       "  </tbody>\n",
       "</table>\n",
       "</div>"
      ],
      "text/plain": [
       "days_till_delivery    1     2      3      4      5      6      7\n",
       "ship_mode_x                                                     \n",
       "First Class         0.0  4.00  25.33  17.33  36.00   6.67  10.67\n",
       "Second Class        0.0  5.17  15.52  15.52  46.55  10.34   6.90\n",
       "Standard Class      1.5  5.50   8.50  11.00  62.50   7.00   4.00"
      ]
     },
     "metadata": {},
     "output_type": "display_data"
    }
   ],
   "source": [
    "crosstb = pd.crosstab(index=df_campaign_final[\"ship_mode_x\"],columns=df_campaign_final[\"days_till_delivery\"], normalize=\"index\")\\\n",
    "    .round(4)*100\n",
    "display(df_campaign_final.groupby('ship_mode_x')[\"days_till_delivery\"].describe())\n",
    "display(crosstb)"
   ]
  },
  {
   "cell_type": "markdown",
   "metadata": {},
   "source": [
    "* Even first class shipping mode can only keep the three day promise in 29% of the time\n",
    "\n",
    "* Keep in mind that the analysis about shipping dates is based on the campaign data\n",
    "\n",
    "* Basing statistics on the dates customers scanned the QR-Code on their package is NOT reliable at all."
   ]
  },
  {
   "cell_type": "markdown",
   "metadata": {},
   "source": [
    "#### Important KPI’s for a smooth warehouse process in the future would be:\n",
    "* average for processing an order\n",
    "* average days an order is waiting for a truck\n",
    "* average days it takes for an order to be loaded on truck"
   ]
  },
  {
   "cell_type": "code",
   "execution_count": 103,
   "metadata": {},
   "outputs": [
    {
     "name": "stdout",
     "output_type": "stream",
     "text": [
      " Average days for processing an order: 2.77 \n",
      " Average days an order is waiting for a truck: 1.36\n",
      " Average days it takes for an order to be loaded on truck: 4.13 \n"
     ]
    }
   ],
   "source": [
    "\n",
    "work = df_intern_final[\"work_days_to_process\"].mean()\n",
    "wait = df_intern_final[\"waiting_for_truck\"].mean()\n",
    "truck = df_intern_final[\"work_days_to_truck\"].mean()\n",
    "\n",
    "\n",
    "print(\" Average days for processing an order: {} \".format(round(work,2)))\n",
    "print(\" Average days an order is waiting for a truck: {}\".format(round(wait,2)))\n",
    "print(\" Average days it takes for an order to be loaded on truck: {} \".format(round(truck,2)))"
   ]
  },
  {
   "cell_type": "markdown",
   "metadata": {},
   "source": [
    "#### More important KPIs to look at"
   ]
  },
  {
   "cell_type": "code",
   "execution_count": 109,
   "metadata": {},
   "outputs": [
    {
     "data": {
      "text/html": [
       "<div>\n",
       "<style scoped>\n",
       "    .dataframe tbody tr th:only-of-type {\n",
       "        vertical-align: middle;\n",
       "    }\n",
       "\n",
       "    .dataframe tbody tr th {\n",
       "        vertical-align: top;\n",
       "    }\n",
       "\n",
       "    .dataframe thead th {\n",
       "        text-align: right;\n",
       "    }\n",
       "</style>\n",
       "<table border=\"1\" class=\"dataframe\">\n",
       "  <thead>\n",
       "    <tr style=\"text-align: right;\">\n",
       "      <th></th>\n",
       "      <th>order_id</th>\n",
       "      <th>order_date_x</th>\n",
       "      <th>on_truck_scan_date</th>\n",
       "      <th>ship_mode_y</th>\n",
       "      <th>ship_mode_x</th>\n",
       "      <th>ready_to_ship_date</th>\n",
       "      <th>pickup_date</th>\n",
       "      <th>work_days_to_process</th>\n",
       "      <th>waiting_for_truck</th>\n",
       "      <th>work_days_to_truck</th>\n",
       "      <th>week_day_ready_to_ship</th>\n",
       "    </tr>\n",
       "  </thead>\n",
       "  <tbody>\n",
       "    <tr>\n",
       "      <th>0</th>\n",
       "      <td>CA-2020-119004</td>\n",
       "      <td>2020-11-23 00:00:00</td>\n",
       "      <td>2020-12-02</td>\n",
       "      <td>Standard Processing</td>\n",
       "      <td>Standard Class</td>\n",
       "      <td>2020-11-30</td>\n",
       "      <td>2020-12-02</td>\n",
       "      <td>5</td>\n",
       "      <td>2</td>\n",
       "      <td>7</td>\n",
       "      <td>Monday</td>\n",
       "    </tr>\n",
       "    <tr>\n",
       "      <th>1</th>\n",
       "      <td>CA-2019-145625</td>\n",
       "      <td>2019-09-11 00:00:00</td>\n",
       "      <td>2019-09-18</td>\n",
       "      <td>Standard Processing</td>\n",
       "      <td>Standard Class</td>\n",
       "      <td>2019-09-17</td>\n",
       "      <td>2019-09-18</td>\n",
       "      <td>4</td>\n",
       "      <td>1</td>\n",
       "      <td>5</td>\n",
       "      <td>Tuesday</td>\n",
       "    </tr>\n",
       "    <tr>\n",
       "      <th>2</th>\n",
       "      <td>CA-2020-135307</td>\n",
       "      <td>2020-11-26 00:00:00</td>\n",
       "      <td>2020-11-27</td>\n",
       "      <td>Express</td>\n",
       "      <td>First Class</td>\n",
       "      <td>2020-11-27</td>\n",
       "      <td>2020-11-27</td>\n",
       "      <td>1</td>\n",
       "      <td>0</td>\n",
       "      <td>1</td>\n",
       "      <td>Friday</td>\n",
       "    </tr>\n",
       "    <tr>\n",
       "      <th>3</th>\n",
       "      <td>CA-2019-102981</td>\n",
       "      <td>2019-09-06 00:00:00</td>\n",
       "      <td>2019-09-11</td>\n",
       "      <td>Standard Processing</td>\n",
       "      <td>Second Class</td>\n",
       "      <td>2019-09-09</td>\n",
       "      <td>2019-09-11</td>\n",
       "      <td>1</td>\n",
       "      <td>2</td>\n",
       "      <td>3</td>\n",
       "      <td>Monday</td>\n",
       "    </tr>\n",
       "    <tr>\n",
       "      <th>4</th>\n",
       "      <td>US-2020-155425</td>\n",
       "      <td>2020-11-10 00:00:00</td>\n",
       "      <td>2020-11-12</td>\n",
       "      <td>Express</td>\n",
       "      <td>First Class</td>\n",
       "      <td>2020-11-11</td>\n",
       "      <td>2020-11-12</td>\n",
       "      <td>1</td>\n",
       "      <td>1</td>\n",
       "      <td>2</td>\n",
       "      <td>Wednesday</td>\n",
       "    </tr>\n",
       "  </tbody>\n",
       "</table>\n",
       "</div>"
      ],
      "text/plain": [
       "         order_id         order_date_x on_truck_scan_date  \\\n",
       "0  CA-2020-119004  2020-11-23 00:00:00         2020-12-02   \n",
       "1  CA-2019-145625  2019-09-11 00:00:00         2019-09-18   \n",
       "2  CA-2020-135307  2020-11-26 00:00:00         2020-11-27   \n",
       "3  CA-2019-102981  2019-09-06 00:00:00         2019-09-11   \n",
       "4  US-2020-155425  2020-11-10 00:00:00         2020-11-12   \n",
       "\n",
       "           ship_mode_y     ship_mode_x ready_to_ship_date pickup_date  \\\n",
       "0  Standard Processing  Standard Class         2020-11-30  2020-12-02   \n",
       "1  Standard Processing  Standard Class         2019-09-17  2019-09-18   \n",
       "2              Express     First Class         2020-11-27  2020-11-27   \n",
       "3  Standard Processing    Second Class         2019-09-09  2019-09-11   \n",
       "4              Express     First Class         2020-11-11  2020-11-12   \n",
       "\n",
       "   work_days_to_process  waiting_for_truck  work_days_to_truck  \\\n",
       "0                     5                  2                   7   \n",
       "1                     4                  1                   5   \n",
       "2                     1                  0                   1   \n",
       "3                     1                  2                   3   \n",
       "4                     1                  1                   2   \n",
       "\n",
       "  week_day_ready_to_ship  \n",
       "0                 Monday  \n",
       "1                Tuesday  \n",
       "2                 Friday  \n",
       "3                 Monday  \n",
       "4              Wednesday  "
      ]
     },
     "execution_count": 109,
     "metadata": {},
     "output_type": "execute_result"
    }
   ],
   "source": [
    "df_intern_final.head()"
   ]
  },
  {
   "cell_type": "code",
   "execution_count": 110,
   "metadata": {},
   "outputs": [],
   "source": [
    "ready_to_ship_days = df_intern_final.groupby([\"week_day_ready_to_ship\"], as_index=False)[\"order_id\"].count() \\\n",
    "    .rename(columns={\"order_id\":\"total\"}) \\\n",
    "        "
   ]
  },
  {
   "cell_type": "code",
   "execution_count": 111,
   "metadata": {},
   "outputs": [
    {
     "data": {
      "text/html": [
       "<div>\n",
       "<style scoped>\n",
       "    .dataframe tbody tr th:only-of-type {\n",
       "        vertical-align: middle;\n",
       "    }\n",
       "\n",
       "    .dataframe tbody tr th {\n",
       "        vertical-align: top;\n",
       "    }\n",
       "\n",
       "    .dataframe thead th {\n",
       "        text-align: right;\n",
       "    }\n",
       "</style>\n",
       "<table border=\"1\" class=\"dataframe\">\n",
       "  <thead>\n",
       "    <tr style=\"text-align: right;\">\n",
       "      <th></th>\n",
       "      <th>week_day_ready_to_ship</th>\n",
       "      <th>total</th>\n",
       "    </tr>\n",
       "  </thead>\n",
       "  <tbody>\n",
       "    <tr>\n",
       "      <th>0</th>\n",
       "      <td>Friday</td>\n",
       "      <td>31</td>\n",
       "    </tr>\n",
       "    <tr>\n",
       "      <th>1</th>\n",
       "      <td>Monday</td>\n",
       "      <td>93</td>\n",
       "    </tr>\n",
       "    <tr>\n",
       "      <th>2</th>\n",
       "      <td>Thursday</td>\n",
       "      <td>28</td>\n",
       "    </tr>\n",
       "    <tr>\n",
       "      <th>3</th>\n",
       "      <td>Tuesday</td>\n",
       "      <td>29</td>\n",
       "    </tr>\n",
       "    <tr>\n",
       "      <th>4</th>\n",
       "      <td>Wednesday</td>\n",
       "      <td>23</td>\n",
       "    </tr>\n",
       "  </tbody>\n",
       "</table>\n",
       "</div>"
      ],
      "text/plain": [
       "  week_day_ready_to_ship  total\n",
       "0                 Friday     31\n",
       "1                 Monday     93\n",
       "2               Thursday     28\n",
       "3                Tuesday     29\n",
       "4              Wednesday     23"
      ]
     },
     "execution_count": 111,
     "metadata": {},
     "output_type": "execute_result"
    }
   ],
   "source": [
    "ready_to_ship_days"
   ]
  },
  {
   "cell_type": "code",
   "execution_count": 116,
   "metadata": {},
   "outputs": [
    {
     "data": {
      "image/png": "[encoded data removed]",
      "text/plain": [
       "<Figure size 432x288 with 1 Axes>"
      ]
     },
     "metadata": {},
     "output_type": "display_data"
    }
   ],
   "source": [
    "sorter = ['Monday', 'Tuesday', 'Wednesday', 'Thursday', 'Friday']\n",
    "ready_to_ship_days[\"week_day_ready_to_ship\"] = pd.CategoricalIndex(ready_to_ship_days[\"week_day_ready_to_ship\"], categories=sorter,ordered=True )\n",
    "\n",
    "\n",
    "sns.barplot(x='total', y='week_day_ready_to_ship',  data=ready_to_ship_days);"
   ]
  },
  {
   "cell_type": "code",
   "execution_count": 124,
   "metadata": {},
   "outputs": [
    {
     "data": {
      "text/html": [
       "<div>\n",
       "<style scoped>\n",
       "    .dataframe tbody tr th:only-of-type {\n",
       "        vertical-align: middle;\n",
       "    }\n",
       "\n",
       "    .dataframe tbody tr th {\n",
       "        vertical-align: top;\n",
       "    }\n",
       "\n",
       "    .dataframe thead th {\n",
       "        text-align: right;\n",
       "    }\n",
       "</style>\n",
       "<table border=\"1\" class=\"dataframe\">\n",
       "  <thead>\n",
       "    <tr style=\"text-align: right;\">\n",
       "      <th></th>\n",
       "      <th>order_id</th>\n",
       "      <th>order_date_x</th>\n",
       "      <th>on_truck_scan_date</th>\n",
       "      <th>ship_mode_y</th>\n",
       "      <th>ship_mode_x</th>\n",
       "      <th>on_truck_weekday</th>\n",
       "    </tr>\n",
       "  </thead>\n",
       "  <tbody>\n",
       "    <tr>\n",
       "      <th>0</th>\n",
       "      <td>CA-2019-121755</td>\n",
       "      <td>2019-01-16 00:00:00</td>\n",
       "      <td>2019-01-23</td>\n",
       "      <td>Standard Processing</td>\n",
       "      <td>Second Class</td>\n",
       "      <td>Wednesday</td>\n",
       "    </tr>\n",
       "  </tbody>\n",
       "</table>\n",
       "</div>"
      ],
      "text/plain": [
       "         order_id         order_date_x on_truck_scan_date  \\\n",
       "0  CA-2019-121755  2019-01-16 00:00:00         2019-01-23   \n",
       "\n",
       "           ship_mode_y   ship_mode_x on_truck_weekday  \n",
       "0  Standard Processing  Second Class        Wednesday  "
      ]
     },
     "execution_count": 124,
     "metadata": {},
     "output_type": "execute_result"
    }
   ],
   "source": [
    "df_order_process_final.head(1)"
   ]
  },
  {
   "cell_type": "code",
   "execution_count": 125,
   "metadata": {},
   "outputs": [
    {
     "data": {
      "text/html": [
       "<div>\n",
       "<style scoped>\n",
       "    .dataframe tbody tr th:only-of-type {\n",
       "        vertical-align: middle;\n",
       "    }\n",
       "\n",
       "    .dataframe tbody tr th {\n",
       "        vertical-align: top;\n",
       "    }\n",
       "\n",
       "    .dataframe thead th {\n",
       "        text-align: right;\n",
       "    }\n",
       "</style>\n",
       "<table border=\"1\" class=\"dataframe\">\n",
       "  <thead>\n",
       "    <tr style=\"text-align: right;\">\n",
       "      <th></th>\n",
       "      <th>on_truck_weekday</th>\n",
       "      <th>total</th>\n",
       "    </tr>\n",
       "  </thead>\n",
       "  <tbody>\n",
       "    <tr>\n",
       "      <th>0</th>\n",
       "      <td>Friday</td>\n",
       "      <td>676</td>\n",
       "    </tr>\n",
       "    <tr>\n",
       "      <th>1</th>\n",
       "      <td>Monday</td>\n",
       "      <td>548</td>\n",
       "    </tr>\n",
       "    <tr>\n",
       "      <th>2</th>\n",
       "      <td>Thursday</td>\n",
       "      <td>46</td>\n",
       "    </tr>\n",
       "    <tr>\n",
       "      <th>3</th>\n",
       "      <td>Tuesday</td>\n",
       "      <td>77</td>\n",
       "    </tr>\n",
       "    <tr>\n",
       "      <th>4</th>\n",
       "      <td>Wednesday</td>\n",
       "      <td>1655</td>\n",
       "    </tr>\n",
       "  </tbody>\n",
       "</table>\n",
       "</div>"
      ],
      "text/plain": [
       "  on_truck_weekday  total\n",
       "0           Friday    676\n",
       "1           Monday    548\n",
       "2         Thursday     46\n",
       "3          Tuesday     77\n",
       "4        Wednesday   1655"
      ]
     },
     "execution_count": 125,
     "metadata": {},
     "output_type": "execute_result"
    }
   ],
   "source": [
    "on_truck = df_order_process_final.groupby([\"on_truck_weekday\"], as_index=False)[\"order_id\"].count() \\\n",
    "    .rename(columns={\"order_id\":\"total\"}) \\\n",
    "\n",
    "on_truck"
   ]
  },
  {
   "cell_type": "code",
   "execution_count": 126,
   "metadata": {},
   "outputs": [
    {
     "data": {
      "image/png": "[encoded data removed]",
      "text/plain": [
       "<Figure size 432x288 with 1 Axes>"
      ]
     },
     "metadata": {},
     "output_type": "display_data"
    }
   ],
   "source": [
    "sorter = ['Monday', 'Tuesday', 'Wednesday', 'Thursday', 'Friday']\n",
    "on_truck[\"on_truck_weekday\"] = pd.CategoricalIndex(on_truck[\"on_truck_weekday\"], categories=sorter,ordered=True )\n",
    "\n",
    "\n",
    "sns.barplot(x='total', y='on_truck_weekday',  data=on_truck);"
   ]
  },
  {
   "cell_type": "markdown",
   "metadata": {},
   "source": []
  }
 ],
 "metadata": {
  "interpreter": {
   "hash": "7e5dd4e8bb56ae65a22f3d200aaed1dd1bca326f6ee49ce3e6746302b0f6a019"
  },
  "kernelspec": {
   "display_name": "Python 3.9.7 64-bit ('muelsi': conda)",
   "language": "python",
   "name": "python3"
  },
  "language_info": {
   "codemirror_mode": {
    "name": "ipython",
    "version": 3
   },
   "file_extension": ".py",
   "mimetype": "text/x-python",
   "name": "python",
   "nbconvert_exporter": "python",
   "pygments_lexer": "ipython3",
   "version": "3.9.7"
  },
  "orig_nbformat": 4
 },
 "nbformat": 4,
 "nbformat_minor": 2
}
