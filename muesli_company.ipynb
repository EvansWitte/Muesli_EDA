{
 "cells": [
  {
   "cell_type": "code",
   "execution_count": 253,
   "metadata": {},
   "outputs": [],
   "source": [
    "# import the necessary libraries you need for your analysis\n",
    "import numpy as np\n",
    "import seaborn as sns\n",
    "import matplotlib.pyplot as plt\n",
    "import pandas as pd \n",
    "%matplotlib inline\n",
    "\n",
    "# warnings supression\n",
    "import warnings\n",
    "warnings.simplefilter(action='ignore', category=FutureWarning)"
   ]
  },
  {
   "cell_type": "code",
   "execution_count": 254,
   "metadata": {},
   "outputs": [],
   "source": [
    "# read in csv file and display first 5 rows of datset\n",
    "df = pd.read_excel(\"data/MuesliProject_raw_data.xlsx\")"
   ]
  },
  {
   "cell_type": "code",
   "execution_count": 255,
   "metadata": {},
   "outputs": [],
   "source": [
    "# read in csv file and display first 5 rows of datset\n",
    "df_campaign = pd.read_excel(\"data/MuesliProject_raw_data.xlsx\",sheet_name='Campaign Data')\n",
    "df_process = pd.read_excel(\"data/MuesliProject_raw_data.xlsx\",sheet_name='Order Process Data')\n",
    "df_intern = pd.read_excel(\"data/MuesliProject_raw_data.xlsx\",sheet_name='InternData Study')"
   ]
  },
  {
   "cell_type": "code",
   "execution_count": 256,
   "metadata": {},
   "outputs": [],
   "source": [
    "#column cleaning\n",
    "headers = df.iloc[0]\n",
    "df.rename(columns=headers, inplace=True)\n",
    "df.drop(df.index[0], inplace=True)\n",
    "\n",
    "#drop the new index column\n",
    "df = df.reset_index(col_level=0)\n",
    "df.drop('index',axis=1,inplace=True)"
   ]
  },
  {
   "cell_type": "code",
   "execution_count": 257,
   "metadata": {},
   "outputs": [],
   "source": [
    "#change the column description - underscore instead of space and all str lower\n",
    "cols = df.columns.tolist()\n",
    "df.columns = [col.replace(' ','_').lower()for col in cols]\n",
    "\n",
    "cols = df_campaign.columns.tolist()\n",
    "df_campaign.columns = [col.replace(' ','_').lower()for col in cols]\n",
    "\n",
    "cols = df_process.columns.tolist()\n",
    "df_process.columns = [col.replace(' ','_').lower()for col in cols]\n",
    "\n",
    "cols = df_intern.columns.tolist()\n",
    "df_intern.columns = [col.replace(' ','_').lower()for col in cols]\n"
   ]
  },
  {
   "cell_type": "code",
   "execution_count": 258,
   "metadata": {},
   "outputs": [],
   "source": [
    "#drop the duplicates from these tables\n",
    "df_campaign.drop_duplicates(subset='order_id', keep='first' ,inplace=True, ignore_index=False)\n",
    "df_process.drop_duplicates(subset='order_id', keep='first' ,inplace=True, ignore_index=False)\n",
    "df_intern.drop_duplicates(subset='order_id', keep='first' ,inplace=True, ignore_index=False)\n",
    "df.drop_duplicates(subset='order_id', keep='first' ,inplace=True, ignore_index=False)"
   ]
  },
  {
   "cell_type": "code",
   "execution_count": 259,
   "metadata": {},
   "outputs": [],
   "source": [
    "#merge all tables\n",
    "df_arrival= df.merge(df_campaign, how='left' , on='order_id').merge(df_process,how='inner', on='order_id').merge(df_intern,how='left', on='order_id')"
   ]
  },
  {
   "cell_type": "code",
   "execution_count": 260,
   "metadata": {},
   "outputs": [],
   "source": [
    "#only take the column that are needed\n",
    "df_arrival_final = df_arrival[[\"order_id\", \"order_date_x\", \"ready_to_ship_date\", \"pickup_date\", \"on_truck_scan_date\", \"arrival_scan_date\", \"ship_mode_y\", \"ship_mode_x\"]]"
   ]
  },
  {
   "cell_type": "code",
   "execution_count": 261,
   "metadata": {},
   "outputs": [
    {
     "data": {
      "text/html": [
       "<div>\n",
       "<style scoped>\n",
       "    .dataframe tbody tr th:only-of-type {\n",
       "        vertical-align: middle;\n",
       "    }\n",
       "\n",
       "    .dataframe tbody tr th {\n",
       "        vertical-align: top;\n",
       "    }\n",
       "\n",
       "    .dataframe thead th {\n",
       "        text-align: right;\n",
       "    }\n",
       "</style>\n",
       "<table border=\"1\" class=\"dataframe\">\n",
       "  <thead>\n",
       "    <tr style=\"text-align: right;\">\n",
       "      <th></th>\n",
       "      <th>order_id</th>\n",
       "      <th>order_date_x</th>\n",
       "      <th>on_truck_scan_date</th>\n",
       "      <th>ship_mode_y</th>\n",
       "      <th>ship_mode_x</th>\n",
       "    </tr>\n",
       "  </thead>\n",
       "  <tbody>\n",
       "    <tr>\n",
       "      <th>0</th>\n",
       "      <td>CA-2019-121755</td>\n",
       "      <td>2019-01-16 00:00:00</td>\n",
       "      <td>2019-01-23</td>\n",
       "      <td>Standard Processing</td>\n",
       "      <td>Second Class</td>\n",
       "    </tr>\n",
       "    <tr>\n",
       "      <th>1</th>\n",
       "      <td>CA-2019-118255</td>\n",
       "      <td>2019-03-11 00:00:00</td>\n",
       "      <td>2019-03-13</td>\n",
       "      <td>Express</td>\n",
       "      <td>First Class</td>\n",
       "    </tr>\n",
       "    <tr>\n",
       "      <th>2</th>\n",
       "      <td>CA-2019-169194</td>\n",
       "      <td>2019-06-20 00:00:00</td>\n",
       "      <td>2019-06-26</td>\n",
       "      <td>Standard Processing</td>\n",
       "      <td>Standard Class</td>\n",
       "    </tr>\n",
       "    <tr>\n",
       "      <th>3</th>\n",
       "      <td>CA-2019-111682</td>\n",
       "      <td>2019-06-17 00:00:00</td>\n",
       "      <td>2019-06-19</td>\n",
       "      <td>Express</td>\n",
       "      <td>First Class</td>\n",
       "    </tr>\n",
       "    <tr>\n",
       "      <th>4</th>\n",
       "      <td>CA-2020-155558</td>\n",
       "      <td>2020-10-26 00:00:00</td>\n",
       "      <td>2020-11-04</td>\n",
       "      <td>Standard Processing</td>\n",
       "      <td>Standard Class</td>\n",
       "    </tr>\n",
       "  </tbody>\n",
       "</table>\n",
       "</div>"
      ],
      "text/plain": [
       "         order_id         order_date_x on_truck_scan_date  \\\n",
       "0  CA-2019-121755  2019-01-16 00:00:00         2019-01-23   \n",
       "1  CA-2019-118255  2019-03-11 00:00:00         2019-03-13   \n",
       "2  CA-2019-169194  2019-06-20 00:00:00         2019-06-26   \n",
       "3  CA-2019-111682  2019-06-17 00:00:00         2019-06-19   \n",
       "4  CA-2020-155558  2020-10-26 00:00:00         2020-11-04   \n",
       "\n",
       "           ship_mode_y     ship_mode_x  \n",
       "0  Standard Processing    Second Class  \n",
       "1              Express     First Class  \n",
       "2  Standard Processing  Standard Class  \n",
       "3              Express     First Class  \n",
       "4  Standard Processing  Standard Class  "
      ]
     },
     "execution_count": 261,
     "metadata": {},
     "output_type": "execute_result"
    }
   ],
   "source": [
    "#the final order process table\n",
    "df_order_process_final = df_arrival_final[[\"order_id\", \"order_date_x\", \"on_truck_scan_date\" ,\"ship_mode_y\", \"ship_mode_x\"]]\n",
    "df_order_process_final.head()"
   ]
  },
  {
   "cell_type": "code",
   "execution_count": 262,
   "metadata": {},
   "outputs": [
    {
     "data": {
      "text/html": [
       "<div>\n",
       "<style scoped>\n",
       "    .dataframe tbody tr th:only-of-type {\n",
       "        vertical-align: middle;\n",
       "    }\n",
       "\n",
       "    .dataframe tbody tr th {\n",
       "        vertical-align: top;\n",
       "    }\n",
       "\n",
       "    .dataframe thead th {\n",
       "        text-align: right;\n",
       "    }\n",
       "</style>\n",
       "<table border=\"1\" class=\"dataframe\">\n",
       "  <thead>\n",
       "    <tr style=\"text-align: right;\">\n",
       "      <th></th>\n",
       "      <th>order_id</th>\n",
       "      <th>order_date_x</th>\n",
       "      <th>on_truck_scan_date</th>\n",
       "      <th>ship_mode_y</th>\n",
       "      <th>ship_mode_x</th>\n",
       "      <th>arrival_scan_date</th>\n",
       "      <th>customer_name</th>\n",
       "    </tr>\n",
       "  </thead>\n",
       "  <tbody>\n",
       "    <tr>\n",
       "      <th>0</th>\n",
       "      <td>CA-2019-145625</td>\n",
       "      <td>2019-09-11 00:00:00</td>\n",
       "      <td>2019-09-18</td>\n",
       "      <td>Standard Processing</td>\n",
       "      <td>Standard Class</td>\n",
       "      <td>2019-09-23</td>\n",
       "      <td>Kelly Collister</td>\n",
       "    </tr>\n",
       "    <tr>\n",
       "      <th>1</th>\n",
       "      <td>CA-2019-162138</td>\n",
       "      <td>2019-04-23 00:00:00</td>\n",
       "      <td>2019-05-01</td>\n",
       "      <td>Standard Processing</td>\n",
       "      <td>Standard Class</td>\n",
       "      <td>2019-05-06</td>\n",
       "      <td>Grace Kelly</td>\n",
       "    </tr>\n",
       "    <tr>\n",
       "      <th>2</th>\n",
       "      <td>CA-2019-169166</td>\n",
       "      <td>2019-05-09 00:00:00</td>\n",
       "      <td>2019-05-15</td>\n",
       "      <td>Standard Processing</td>\n",
       "      <td>Standard Class</td>\n",
       "      <td>2019-05-20</td>\n",
       "      <td>Sonia Sunley</td>\n",
       "    </tr>\n",
       "    <tr>\n",
       "      <th>3</th>\n",
       "      <td>CA-2020-131954</td>\n",
       "      <td>2020-01-21 00:00:00</td>\n",
       "      <td>2020-01-29</td>\n",
       "      <td>Standard Processing</td>\n",
       "      <td>Standard Class</td>\n",
       "      <td>2020-02-03</td>\n",
       "      <td>Darrin Sayre</td>\n",
       "    </tr>\n",
       "    <tr>\n",
       "      <th>4</th>\n",
       "      <td>CA-2019-102981</td>\n",
       "      <td>2019-09-06 00:00:00</td>\n",
       "      <td>2019-09-11</td>\n",
       "      <td>Standard Processing</td>\n",
       "      <td>Second Class</td>\n",
       "      <td>2019-09-16</td>\n",
       "      <td>Mary O'Rourke</td>\n",
       "    </tr>\n",
       "  </tbody>\n",
       "</table>\n",
       "</div>"
      ],
      "text/plain": [
       "         order_id         order_date_x on_truck_scan_date  \\\n",
       "0  CA-2019-145625  2019-09-11 00:00:00         2019-09-18   \n",
       "1  CA-2019-162138  2019-04-23 00:00:00         2019-05-01   \n",
       "2  CA-2019-169166  2019-05-09 00:00:00         2019-05-15   \n",
       "3  CA-2020-131954  2020-01-21 00:00:00         2020-01-29   \n",
       "4  CA-2019-102981  2019-09-06 00:00:00         2019-09-11   \n",
       "\n",
       "           ship_mode_y     ship_mode_x arrival_scan_date    customer_name  \n",
       "0  Standard Processing  Standard Class        2019-09-23  Kelly Collister  \n",
       "1  Standard Processing  Standard Class        2019-05-06      Grace Kelly  \n",
       "2  Standard Processing  Standard Class        2019-05-20     Sonia Sunley  \n",
       "3  Standard Processing  Standard Class        2020-02-03     Darrin Sayre  \n",
       "4  Standard Processing    Second Class        2019-09-16    Mary O'Rourke  "
      ]
     },
     "execution_count": 262,
     "metadata": {},
     "output_type": "execute_result"
    }
   ],
   "source": [
    "#the final campaign table\n",
    "df_campaign_final = df_order_process_final.merge(df_campaign, how='inner' , on='order_id')\n",
    "df_campaign_final.head()"
   ]
  },
  {
   "cell_type": "code",
   "execution_count": 263,
   "metadata": {},
   "outputs": [
    {
     "data": {
      "text/html": [
       "<div>\n",
       "<style scoped>\n",
       "    .dataframe tbody tr th:only-of-type {\n",
       "        vertical-align: middle;\n",
       "    }\n",
       "\n",
       "    .dataframe tbody tr th {\n",
       "        vertical-align: top;\n",
       "    }\n",
       "\n",
       "    .dataframe thead th {\n",
       "        text-align: right;\n",
       "    }\n",
       "</style>\n",
       "<table border=\"1\" class=\"dataframe\">\n",
       "  <thead>\n",
       "    <tr style=\"text-align: right;\">\n",
       "      <th></th>\n",
       "      <th>order_id</th>\n",
       "      <th>order_date_x</th>\n",
       "      <th>on_truck_scan_date</th>\n",
       "      <th>ship_mode_y</th>\n",
       "      <th>ship_mode_x</th>\n",
       "      <th>ready_to_ship_date</th>\n",
       "      <th>pickup_date</th>\n",
       "    </tr>\n",
       "  </thead>\n",
       "  <tbody>\n",
       "    <tr>\n",
       "      <th>0</th>\n",
       "      <td>CA-2020-119004</td>\n",
       "      <td>2020-11-23 00:00:00</td>\n",
       "      <td>2020-12-02</td>\n",
       "      <td>Standard Processing</td>\n",
       "      <td>Standard Class</td>\n",
       "      <td>2020-11-30</td>\n",
       "      <td>2020-12-02</td>\n",
       "    </tr>\n",
       "    <tr>\n",
       "      <th>1</th>\n",
       "      <td>CA-2019-145625</td>\n",
       "      <td>2019-09-11 00:00:00</td>\n",
       "      <td>2019-09-18</td>\n",
       "      <td>Standard Processing</td>\n",
       "      <td>Standard Class</td>\n",
       "      <td>2019-09-17</td>\n",
       "      <td>2019-09-18</td>\n",
       "    </tr>\n",
       "    <tr>\n",
       "      <th>2</th>\n",
       "      <td>CA-2020-135307</td>\n",
       "      <td>2020-11-26 00:00:00</td>\n",
       "      <td>2020-11-27</td>\n",
       "      <td>Express</td>\n",
       "      <td>First Class</td>\n",
       "      <td>2020-11-27</td>\n",
       "      <td>2020-11-27</td>\n",
       "    </tr>\n",
       "    <tr>\n",
       "      <th>3</th>\n",
       "      <td>CA-2019-102981</td>\n",
       "      <td>2019-09-06 00:00:00</td>\n",
       "      <td>2019-09-11</td>\n",
       "      <td>Standard Processing</td>\n",
       "      <td>Second Class</td>\n",
       "      <td>2019-09-09</td>\n",
       "      <td>2019-09-11</td>\n",
       "    </tr>\n",
       "    <tr>\n",
       "      <th>4</th>\n",
       "      <td>US-2020-155425</td>\n",
       "      <td>2020-11-10 00:00:00</td>\n",
       "      <td>2020-11-12</td>\n",
       "      <td>Express</td>\n",
       "      <td>First Class</td>\n",
       "      <td>2020-11-11</td>\n",
       "      <td>2020-11-12</td>\n",
       "    </tr>\n",
       "  </tbody>\n",
       "</table>\n",
       "</div>"
      ],
      "text/plain": [
       "         order_id         order_date_x on_truck_scan_date  \\\n",
       "0  CA-2020-119004  2020-11-23 00:00:00         2020-12-02   \n",
       "1  CA-2019-145625  2019-09-11 00:00:00         2019-09-18   \n",
       "2  CA-2020-135307  2020-11-26 00:00:00         2020-11-27   \n",
       "3  CA-2019-102981  2019-09-06 00:00:00         2019-09-11   \n",
       "4  US-2020-155425  2020-11-10 00:00:00         2020-11-12   \n",
       "\n",
       "           ship_mode_y     ship_mode_x ready_to_ship_date pickup_date  \n",
       "0  Standard Processing  Standard Class         2020-11-30  2020-12-02  \n",
       "1  Standard Processing  Standard Class         2019-09-17  2019-09-18  \n",
       "2              Express     First Class         2020-11-27  2020-11-27  \n",
       "3  Standard Processing    Second Class         2019-09-09  2019-09-11  \n",
       "4              Express     First Class         2020-11-11  2020-11-12  "
      ]
     },
     "execution_count": 263,
     "metadata": {},
     "output_type": "execute_result"
    }
   ],
   "source": [
    "#the final intern table\n",
    "df_intern_final = df_order_process_final.merge(df_intern, how='inner' , on='order_id')\n",
    "df_intern_final.head() "
   ]
  },
  {
   "cell_type": "code",
   "execution_count": 264,
   "metadata": {},
   "outputs": [],
   "source": [
    "#to cut out the weekend and only have weekdays\n",
    "df_intern_final[\"work_days_to_process\"]=np.busday_count(df_intern_final ['order_date_x'].values.astype('datetime64[D]'), df_intern_final ['ready_to_ship_date'].values.astype('datetime64[D]'), weekmask='Mon Tue Wed Thu Fri')"
   ]
  },
  {
   "cell_type": "code",
   "execution_count": 265,
   "metadata": {},
   "outputs": [],
   "source": [
    "#to cut out the weekend and only have weekdays\n",
    "df_intern_final[\"work_days_to_truck\"]=np.busday_count(df_intern_final ['order_date_x'].values.astype('datetime64[D]'), df_intern_final ['on_truck_scan_date'].values.astype('datetime64[D]'), weekmask='Mon Tue Wed Thu Fri')"
   ]
  },
  {
   "cell_type": "code",
   "execution_count": 266,
   "metadata": {},
   "outputs": [],
   "source": [
    "df_intern_final['waiting_for_truck'] = df_intern_final['work_days_to_truck'] - df_intern_final['work_days_to_process']"
   ]
  },
  {
   "cell_type": "code",
   "execution_count": 278,
   "metadata": {},
   "outputs": [],
   "source": [
    "df_intern_final = df_intern_final[[\"order_id\",\"order_date_x\",\"on_truck_scan_date\",\"ship_mode_y\",\"ship_mode_x\",\"ready_to_ship_date\",\"pickup_date\",\"work_days_to_process\",\"waiting_for_truck\",\"work_days_to_truck\"]]"
   ]
  },
  {
   "cell_type": "code",
   "execution_count": 268,
   "metadata": {},
   "outputs": [],
   "source": [
    "#to cut out the weekend and only have weekdays\n",
    "df_campaign_final[\"total_delivery_days\"]=np.busday_count(df_campaign_final ['order_date_x'].values.astype('datetime64[D]'), df_campaign_final ['arrival_scan_date'].values.astype('datetime64[D]'), weekmask='Mon Tue Wed Thu Fri')"
   ]
  },
  {
   "cell_type": "code",
   "execution_count": null,
   "metadata": {},
   "outputs": [],
   "source": [
    "df_campaign_final['total_delivery_days_w_weekend'] = (df_campaign_final['arrival_scan_date'] - df_campaign_final['order_date_x']).dt.days "
   ]
  },
  {
   "cell_type": "code",
   "execution_count": 270,
   "metadata": {},
   "outputs": [],
   "source": [
    "df_campaign_final[\"week_day_arrival\"] =df_campaign_final[\"arrival_scan_date\"].dt.day_name()"
   ]
  },
  {
   "cell_type": "code",
   "execution_count": 271,
   "metadata": {},
   "outputs": [],
   "source": [
    "df_campaign_final['order_date_x'] = pd.to_datetime(df_campaign_final['order_date_x'])\n",
    "df_campaign_final[\"week_day_arrival\"] =df_campaign_final[\"arrival_scan_date\"].dt.day_name()\n",
    "df_campaign_final[\"week_day_order\"] =df_campaign_final[\"order_date_x\"].dt.day_name()\n"
   ]
  },
  {
   "cell_type": "code",
   "execution_count": 280,
   "metadata": {},
   "outputs": [],
   "source": [
    "df_campaign_final['how_many_weekends'] = ((df_campaign_final['total_delivery_days_w_weekend'] - df_campaign_final['total_delivery_days'])/2)\n",
    "df_campaign_final['how_many_weekends'] = df_campaign_final['how_many_weekends'].astype('int64')"
   ]
  },
  {
   "cell_type": "code",
   "execution_count": 282,
   "metadata": {},
   "outputs": [
    {
     "data": {
      "text/html": [
       "<div>\n",
       "<style scoped>\n",
       "    .dataframe tbody tr th:only-of-type {\n",
       "        vertical-align: middle;\n",
       "    }\n",
       "\n",
       "    .dataframe tbody tr th {\n",
       "        vertical-align: top;\n",
       "    }\n",
       "\n",
       "    .dataframe thead th {\n",
       "        text-align: right;\n",
       "    }\n",
       "</style>\n",
       "<table border=\"1\" class=\"dataframe\">\n",
       "  <thead>\n",
       "    <tr style=\"text-align: right;\">\n",
       "      <th></th>\n",
       "      <th>order_id</th>\n",
       "      <th>order_date_x</th>\n",
       "      <th>on_truck_scan_date</th>\n",
       "      <th>ship_mode_y</th>\n",
       "      <th>ship_mode_x</th>\n",
       "      <th>arrival_scan_date</th>\n",
       "      <th>customer_name</th>\n",
       "      <th>total_delivery_days</th>\n",
       "      <th>total_delivery_days_w_weekend</th>\n",
       "      <th>week_day_arrival</th>\n",
       "      <th>week_day_order</th>\n",
       "      <th>how_many_weekends</th>\n",
       "    </tr>\n",
       "  </thead>\n",
       "  <tbody>\n",
       "    <tr>\n",
       "      <th>0</th>\n",
       "      <td>CA-2019-145625</td>\n",
       "      <td>2019-09-11</td>\n",
       "      <td>2019-09-18</td>\n",
       "      <td>Standard Processing</td>\n",
       "      <td>Standard Class</td>\n",
       "      <td>2019-09-23</td>\n",
       "      <td>Kelly Collister</td>\n",
       "      <td>8</td>\n",
       "      <td>12</td>\n",
       "      <td>Monday</td>\n",
       "      <td>Wednesday</td>\n",
       "      <td>2</td>\n",
       "    </tr>\n",
       "    <tr>\n",
       "      <th>1</th>\n",
       "      <td>CA-2019-162138</td>\n",
       "      <td>2019-04-23</td>\n",
       "      <td>2019-05-01</td>\n",
       "      <td>Standard Processing</td>\n",
       "      <td>Standard Class</td>\n",
       "      <td>2019-05-06</td>\n",
       "      <td>Grace Kelly</td>\n",
       "      <td>9</td>\n",
       "      <td>13</td>\n",
       "      <td>Monday</td>\n",
       "      <td>Tuesday</td>\n",
       "      <td>2</td>\n",
       "    </tr>\n",
       "    <tr>\n",
       "      <th>2</th>\n",
       "      <td>CA-2019-169166</td>\n",
       "      <td>2019-05-09</td>\n",
       "      <td>2019-05-15</td>\n",
       "      <td>Standard Processing</td>\n",
       "      <td>Standard Class</td>\n",
       "      <td>2019-05-20</td>\n",
       "      <td>Sonia Sunley</td>\n",
       "      <td>7</td>\n",
       "      <td>11</td>\n",
       "      <td>Monday</td>\n",
       "      <td>Thursday</td>\n",
       "      <td>2</td>\n",
       "    </tr>\n",
       "  </tbody>\n",
       "</table>\n",
       "</div>"
      ],
      "text/plain": [
       "         order_id order_date_x on_truck_scan_date          ship_mode_y  \\\n",
       "0  CA-2019-145625   2019-09-11         2019-09-18  Standard Processing   \n",
       "1  CA-2019-162138   2019-04-23         2019-05-01  Standard Processing   \n",
       "2  CA-2019-169166   2019-05-09         2019-05-15  Standard Processing   \n",
       "\n",
       "      ship_mode_x arrival_scan_date    customer_name  total_delivery_days  \\\n",
       "0  Standard Class        2019-09-23  Kelly Collister                    8   \n",
       "1  Standard Class        2019-05-06      Grace Kelly                    9   \n",
       "2  Standard Class        2019-05-20     Sonia Sunley                    7   \n",
       "\n",
       "   total_delivery_days_w_weekend week_day_arrival week_day_order  \\\n",
       "0                             12           Monday      Wednesday   \n",
       "1                             13           Monday        Tuesday   \n",
       "2                             11           Monday       Thursday   \n",
       "\n",
       "   how_many_weekends  \n",
       "0                  2  \n",
       "1                  2  \n",
       "2                  2  "
      ]
     },
     "execution_count": 282,
     "metadata": {},
     "output_type": "execute_result"
    }
   ],
   "source": [
    "df_campaign_final.head(3)"
   ]
  },
  {
   "cell_type": "code",
   "execution_count": null,
   "metadata": {},
   "outputs": [],
   "source": []
  },
  {
   "cell_type": "code",
   "execution_count": 292,
   "metadata": {},
   "outputs": [
    {
     "data": {
      "text/html": [
       "<div>\n",
       "<style scoped>\n",
       "    .dataframe tbody tr th:only-of-type {\n",
       "        vertical-align: middle;\n",
       "    }\n",
       "\n",
       "    .dataframe tbody tr th {\n",
       "        vertical-align: top;\n",
       "    }\n",
       "\n",
       "    .dataframe thead th {\n",
       "        text-align: right;\n",
       "    }\n",
       "</style>\n",
       "<table border=\"1\" class=\"dataframe\">\n",
       "  <thead>\n",
       "    <tr style=\"text-align: right;\">\n",
       "      <th>work_days_to_process</th>\n",
       "      <th>0</th>\n",
       "      <th>1</th>\n",
       "      <th>2</th>\n",
       "      <th>3</th>\n",
       "      <th>4</th>\n",
       "      <th>5</th>\n",
       "    </tr>\n",
       "    <tr>\n",
       "      <th>ship_mode_y</th>\n",
       "      <th></th>\n",
       "      <th></th>\n",
       "      <th></th>\n",
       "      <th></th>\n",
       "      <th></th>\n",
       "      <th></th>\n",
       "    </tr>\n",
       "  </thead>\n",
       "  <tbody>\n",
       "    <tr>\n",
       "      <th>Express</th>\n",
       "      <td>33.96</td>\n",
       "      <td>15.09</td>\n",
       "      <td>28.30</td>\n",
       "      <td>22.64</td>\n",
       "      <td>0.00</td>\n",
       "      <td>0.00</td>\n",
       "    </tr>\n",
       "    <tr>\n",
       "      <th>Standard Processing</th>\n",
       "      <td>2.65</td>\n",
       "      <td>2.65</td>\n",
       "      <td>19.87</td>\n",
       "      <td>29.80</td>\n",
       "      <td>31.79</td>\n",
       "      <td>13.25</td>\n",
       "    </tr>\n",
       "  </tbody>\n",
       "</table>\n",
       "</div>"
      ],
      "text/plain": [
       "work_days_to_process      0      1      2      3      4      5\n",
       "ship_mode_y                                                   \n",
       "Express               33.96  15.09  28.30  22.64   0.00   0.00\n",
       "Standard Processing    2.65   2.65  19.87  29.80  31.79  13.25"
      ]
     },
     "execution_count": 292,
     "metadata": {},
     "output_type": "execute_result"
    }
   ],
   "source": [
    "pd.crosstab(index=df_intern_final[\"ship_mode_y\"],columns=df_intern_final[\"work_days_to_process\"], normalize=\"index\")\\\n",
    "    .round(4)*100"
   ]
  },
  {
   "cell_type": "code",
   "execution_count": null,
   "metadata": {},
   "outputs": [],
   "source": []
  }
 ],
 "metadata": {
  "interpreter": {
   "hash": "7e5dd4e8bb56ae65a22f3d200aaed1dd1bca326f6ee49ce3e6746302b0f6a019"
  },
  "kernelspec": {
   "display_name": "Python 3.9.7 64-bit ('muelsi': conda)",
   "language": "python",
   "name": "python3"
  },
  "language_info": {
   "codemirror_mode": {
    "name": "ipython",
    "version": 3
   },
   "file_extension": ".py",
   "mimetype": "text/x-python",
   "name": "python",
   "nbconvert_exporter": "python",
   "pygments_lexer": "ipython3",
   "version": "3.9.7"
  },
  "orig_nbformat": 4
 },
 "nbformat": 4,
 "nbformat_minor": 2
}
